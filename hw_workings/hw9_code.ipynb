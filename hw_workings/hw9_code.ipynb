{
 "cells": [
  {
   "cell_type": "code",
   "execution_count": 1,
   "id": "initial_id",
   "metadata": {
    "ExecuteTime": {
     "end_time": "2024-05-12T07:21:15.049755Z",
     "start_time": "2024-05-12T07:21:11.502945Z"
    },
    "collapsed": true
   },
   "outputs": [
    {
     "name": "stdout",
     "output_type": "stream",
     "text": [
      "Python version: 3.11.8 | packaged by conda-forge | (main, Feb 16 2024, 20:49:36) [Clang 16.0.6 ]\n",
      "Numpy version: 1.26.4\n",
      "Matplotlib version: 3.8.0\n",
      "PyTorch version: 2.2.1\n"
     ]
    }
   ],
   "source": [
    "import sys\n",
    "import time\n",
    "\n",
    "import numpy as np\n",
    "import matplotlib\n",
    "import matplotlib.pyplot as plt\n",
    "import torch\n",
    "\n",
    "%matplotlib inline\n",
    "print(f\"Python version: {sys.version}\\nNumpy version: {np.__version__}\\nMatplotlib version: {matplotlib.__version__}\\nPyTorch version: {torch.__version__}\")"
   ]
  },
  {
   "cell_type": "markdown",
   "id": "4bdd20e82e98262b",
   "metadata": {},
   "source": [
    "# Problem 1"
   ]
  },
  {
   "cell_type": "code",
   "execution_count": 2,
   "id": "dbd58093a88c51c6",
   "metadata": {
    "ExecuteTime": {
     "end_time": "2024-05-12T07:22:04.623901Z",
     "start_time": "2024-05-12T07:22:04.621722Z"
    }
   },
   "outputs": [],
   "source": [
    "MNIST_DATA_PATH = \"/Users/lucah/Library/CloudStorage/OneDrive-DurhamUniversity/Course Material & Work/SNU Year Abroad {SNU}/2-Spring Semester/Mathematical Foundations of Deep Neural Networks {MFDNN}/Lectures Slides {MFDNN}/Notebooks {MFDNN}/mnist_data\""
   ]
  },
  {
   "cell_type": "markdown",
   "id": "1eac342b8f335d8b",
   "metadata": {},
   "source": [
    "## Setup"
   ]
  },
  {
   "cell_type": "code",
   "execution_count": 3,
   "id": "6bb9d2e34bd6015d",
   "metadata": {
    "ExecuteTime": {
     "end_time": "2024-05-12T07:23:14.679341Z",
     "start_time": "2024-05-12T07:23:13.709206Z"
    }
   },
   "outputs": [],
   "source": [
    "import torch\n",
    "import torch.nn as nn\n",
    "import torch.nn.functional as F\n",
    "from torch.utils.data import DataLoader\n",
    "from torchvision import datasets\n",
    "import torch.optim as optim\n",
    "from torchvision.transforms import transforms\n",
    "from torchvision.utils import save_image\n",
    "\n",
    "import numpy as np\n",
    "import matplotlib.pyplot as plt\n",
    "\n",
    "lr = 0.001\n",
    "batch_size = 100\n",
    "epochs = 10\n",
    "device = torch.device(\"cuda\" if torch.cuda.is_available() else \"cpu\")\n",
    "device = torch.device(\"mps\" if torch.backends.mps.is_available() else \"cpu\")"
   ]
  },
  {
   "cell_type": "markdown",
   "id": "a3c4608cac3c5813",
   "metadata": {},
   "source": [
    "## Step 1: Datasets"
   ]
  },
  {
   "cell_type": "code",
   "execution_count": 4,
   "id": "41a8a3ece8cd4a84",
   "metadata": {
    "ExecuteTime": {
     "end_time": "2024-05-12T07:24:53.025070Z",
     "start_time": "2024-05-12T07:24:52.994051Z"
    }
   },
   "outputs": [
    {
     "name": "stdout",
     "output_type": "stream",
     "text": [
      "50000\n",
      "10000\n",
      "10000\n",
      "10000\n"
     ]
    }
   ],
   "source": [
    "# MNIST dataset\n",
    "dataset = datasets.MNIST(root=MNIST_DATA_PATH,\n",
    "                         train=True,\n",
    "                         transform=transforms.ToTensor(),\n",
    "                         download=True)\n",
    "\n",
    "train_dataset, validation_dataset = torch.utils.data.random_split(dataset, [50000, 10000])\n",
    "\n",
    "test_dataset = datasets.MNIST(root=MNIST_DATA_PATH,\n",
    "                              train=False,\n",
    "                              transform=transforms.ToTensor())\n",
    "\n",
    "# KMNIST dataset, only need test dataset\n",
    "anomaly_dataset = datasets.KMNIST(root='./kmnist_data/',\n",
    "                                  train=False,\n",
    "                                  transform=transforms.ToTensor(),\n",
    "                                  download=True)\n",
    "\n",
    "print(len(train_dataset))       # 50000\n",
    "print(len(validation_dataset))  # 10000\n",
    "print(len(test_dataset))        # 10000\n",
    "print(len(anomaly_dataset))     # 10000"
   ]
  },
  {
   "cell_type": "markdown",
   "id": "358af9de08ba8ef2",
   "metadata": {},
   "source": [
    "## Step 2: AutoEncoder"
   ]
  },
  {
   "cell_type": "code",
   "execution_count": 5,
   "id": "a9086c1636802f51",
   "metadata": {
    "ExecuteTime": {
     "end_time": "2024-05-12T07:25:55.310732Z",
     "start_time": "2024-05-12T07:25:55.306028Z"
    }
   },
   "outputs": [],
   "source": [
    "# Define Encoder\n",
    "class Encoder(nn.Module):\n",
    "    def __init__(self):\n",
    "        super(Encoder, self).__init__()\n",
    "        self.fc1 = nn.Linear(784, 256)\n",
    "        self.fc2 = nn.Linear(256, 128)\n",
    "        self.fc3 = nn.Linear(128, 32)\n",
    "    def forward(self, x):\n",
    "        x = x.view(x.size(0), -1)\n",
    "        x = F.relu(self.fc1(x))\n",
    "        x = F.relu(self.fc2(x))\n",
    "        z = F.relu(self.fc3(x))\n",
    "        return z\n",
    "\n",
    "# Define Decoder\n",
    "class Decoder(nn.Module):\n",
    "    def __init__(self):\n",
    "        super(Decoder, self).__init__()\n",
    "        self.fc1 = nn.Linear(32, 128)\n",
    "        self.fc2 = nn.Linear(128, 256)\n",
    "        self.fc3 = nn.Linear(256, 784)\n",
    "    def forward(self, z):\n",
    "        z = F.relu(self.fc1(z))\n",
    "        z = F.relu(self.fc2(z))\n",
    "        x = F.sigmoid(self.fc3(z))  # to make output's pixels are 0~1\n",
    "        x = x.view(x.size(0), 1, 28, 28)\n",
    "        return x"
   ]
  },
  {
   "cell_type": "markdown",
   "id": "1a1a3d1d71e81",
   "metadata": {},
   "source": [
    "## Step 3: Instantiate model & define loss and optimizer"
   ]
  },
  {
   "cell_type": "code",
   "execution_count": 6,
   "id": "7ea11a3559a648dc",
   "metadata": {
    "ExecuteTime": {
     "end_time": "2024-05-12T07:26:17.831326Z",
     "start_time": "2024-05-12T07:26:17.811819Z"
    }
   },
   "outputs": [],
   "source": [
    "enc = Encoder().to(device)\n",
    "dec = Decoder().to(device)\n",
    "loss_function = nn.MSELoss()\n",
    "optimizer = optim.Adam(list(enc.parameters()) + list(dec.parameters()), lr=lr)"
   ]
  },
  {
   "cell_type": "markdown",
   "id": "e51a515bde71dc1a",
   "metadata": {},
   "source": [
    "## Step 4: Training"
   ]
  },
  {
   "cell_type": "code",
   "execution_count": 7,
   "id": "5780d73fc3fdc1e4",
   "metadata": {
    "ExecuteTime": {
     "end_time": "2024-05-12T07:29:01.939546Z",
     "start_time": "2024-05-12T07:28:30.729821Z"
    }
   },
   "outputs": [
    {
     "name": "stdout",
     "output_type": "stream",
     "text": [
      "00th epoch starting.                                             \n",
      "01th epoch starting.                                             \n",
      "02th epoch starting.                                             \n",
      "03th epoch starting.                                             \n",
      "04th epoch starting.                                             \n",
      "05th epoch starting.                                             \n",
      "06th epoch starting.                                             \n",
      "07th epoch starting.                                             \n",
      "08th epoch starting.                                             \n",
      "09th epoch starting.                                             \n",
      "Time elapsed in training is: 35.188708782196045n loss: 0.010327\n"
     ]
    },
    {
     "data": {
      "text/plain": [
       "Decoder(\n",
       "  (fc1): Linear(in_features=32, out_features=128, bias=True)\n",
       "  (fc2): Linear(in_features=128, out_features=256, bias=True)\n",
       "  (fc3): Linear(in_features=256, out_features=784, bias=True)\n",
       ")"
      ]
     },
     "execution_count": 7,
     "metadata": {},
     "output_type": "execute_result"
    },
    {
     "data": {
      "image/png": "[encoded data removed]",
      "text/plain": [
       "<Figure size 640x480 with 1 Axes>"
      ]
     },
     "metadata": {},
     "output_type": "display_data"
    }
   ],
   "source": [
    "train_loader = torch.utils.data.DataLoader(dataset=train_dataset, batch_size=batch_size, shuffle=True)\n",
    "\n",
    "train_loss_list = []\n",
    "\n",
    "import time\n",
    "start = time.time()\n",
    "for epoch in range(epochs) :\n",
    "    print(\"{:02}th epoch starting.                                             \".format(epoch))\n",
    "    enc.train()\n",
    "    dec.train()\n",
    "    for batch, (images, _) in enumerate(train_loader) :\n",
    "        images = images.to(device)\n",
    "        z = enc(images)\n",
    "        reconstructed_images = dec(z)\n",
    "\n",
    "        optimizer.zero_grad()\n",
    "        train_loss = loss_function(images, reconstructed_images)\n",
    "        train_loss.backward()\n",
    "        train_loss_list.append(train_loss.item())\n",
    "\n",
    "        optimizer.step()\n",
    "\n",
    "        print(f\"[Epoch {epoch:3d}] Processing batch #{batch:3d} reconstruction loss: {train_loss.item():.6f}\", end='\\r')\n",
    "end = time.time()\n",
    "print(\"Time elapsed in training is: {}\".format(end - start))\n",
    "\n",
    "# plotting train loss\n",
    "plt.plot(range(1,len(train_loss_list)+1), train_loss_list, 'r', label='Training loss')\n",
    "plt.title('Training loss')\n",
    "plt.xlabel('Iterations')\n",
    "plt.ylabel('Loss')\n",
    "plt.legend()\n",
    "\n",
    "# switch to evaluation mode\n",
    "enc.eval()\n",
    "dec.eval()"
   ]
  },
  {
   "cell_type": "markdown",
   "id": "2cb960f22a9ab66f",
   "metadata": {},
   "source": [
    "## Step 5: Calculate standard deviation by using validation set (task)"
   ]
  },
  {
   "cell_type": "code",
   "execution_count": 13,
   "id": "dd8b4faa51d30dc",
   "metadata": {
    "ExecuteTime": {
     "end_time": "2024-05-12T07:58:17.892572Z",
     "start_time": "2024-05-12T07:58:17.579156Z"
    }
   },
   "outputs": [
    {
     "name": "stdout",
     "output_type": "stream",
     "text": [
      "threshold:  22.907926559448242\n"
     ]
    }
   ],
   "source": [
    "validation_loader = torch.utils.data.DataLoader(dataset=validation_dataset, batch_size=batch_size)\n",
    "\n",
    "def score_function(true, reconstructed):\n",
    "    \"\"\"\n",
    "    Calculate the score value for each image (summed across all pixels in ea image) \n",
    "    in a batch of true and reconstructed images.\n",
    "    \"\"\"\n",
    "    diff = true - reconstructed\n",
    "    # solutions use .mean() rather than sum() to get pixel-wise average error rather than total error accumulated over entire image\n",
    "    return torch.square(diff).sum(dim=[2,3]).squeeze()  # sum the square differences per pixel (i.e. norm over whole image)\n",
    "\n",
    "scores = torch.tensor([]).to(device)\n",
    "for images, _ in validation_loader:\n",
    "    images = images.to(device)  # Y_i s\n",
    "    z = enc(images)\n",
    "    reconstructed_images = dec(z)  # D(E(Y_i)) s\n",
    "\n",
    "    scores = torch.concatenate((scores, score_function(images, reconstructed_images)))\n",
    "\n",
    "mean = scores.mean().item()\n",
    "std = scores.std().item()\n",
    "threshold = mean + 3 * std\n",
    "print(\"threshold: \", threshold)"
   ]
  },
  {
   "cell_type": "markdown",
   "id": "a759518772185fa8",
   "metadata": {},
   "source": [
    "## Step 6: Anomaly detection (mnist) (task)"
   ]
  },
  {
   "cell_type": "code",
   "execution_count": 9,
   "id": "75980f41bcac7be5",
   "metadata": {
    "ExecuteTime": {
     "end_time": "2024-05-12T09:13:53.103606Z",
     "start_time": "2024-05-12T09:13:52.751061Z"
    }
   },
   "outputs": [
    {
     "name": "stdout",
     "output_type": "stream",
     "text": [
      "Type I error rate: 0.91%\n"
     ]
    }
   ],
   "source": [
    "test_loader = torch.utils.data.DataLoader(dataset=test_dataset, batch_size=batch_size)\n",
    "\n",
    "anomaly_count = 0\n",
    "for images, _ in test_loader:\n",
    "    images = images.to(device)  # Y_i s\n",
    "    z = enc(images)\n",
    "    reconstructed_images = dec(z)  # D(E(Y_i)) s\n",
    "\n",
    "    # increase anomaly count by number of images that have a score greater than the threshold\n",
    "    anomaly_count += (score_function(images, reconstructed_images) > threshold).sum().item()\n",
    "\n",
    "# Type I error = false positive = how many MNIST 'normal' images are incorrectly detected as anomalies\n",
    "print(f'Type I error rate: {100*anomaly_count/len(test_dataset):.2f}%')"
   ]
  },
  {
   "cell_type": "markdown",
   "id": "34b7ff605967d1ed",
   "metadata": {},
   "source": [
    "## Step 7: Anomaly detection (kmnist) (task)"
   ]
  },
  {
   "cell_type": "code",
   "execution_count": 10,
   "id": "ebb6e2a5f4e9a818",
   "metadata": {
    "ExecuteTime": {
     "end_time": "2024-05-12T09:13:55.102320Z",
     "start_time": "2024-05-12T09:13:54.727624Z"
    }
   },
   "outputs": [
    {
     "name": "stdout",
     "output_type": "stream",
     "text": [
      "Type II error rate: 3.79%\n"
     ]
    }
   ],
   "source": [
    "anomaly_loader = torch.utils.data.DataLoader(dataset=anomaly_dataset, batch_size=batch_size)\n",
    "\n",
    "non_anomaly_count = 0\n",
    "for images, _ in anomaly_loader:\n",
    "    images = images.to(device)  # Y_i s\n",
    "    z = enc(images)\n",
    "    reconstructed_images = dec(z)  # D(E(Y_i)) s\n",
    "    \n",
    "    # increase non-anomaly count by number of images that have a score not greater than the threshold\n",
    "    non_anomaly_count += (score_function(images, reconstructed_images) <= threshold).sum().item()\n",
    "    # non_anomaly_count += (score_function(images, reconstructed_images) > threshold).logical_not().sum().item()\n",
    "    \n",
    "# Type II error = false negative = how many KMNIST 'anomaly' images are incorrectly detected as normal\n",
    "print(f'Type II error rate: {100*non_anomaly_count/len(anomaly_dataset):.2f}%')"
   ]
  },
  {
   "cell_type": "markdown",
   "id": "f5cf1a56",
   "metadata": {},
   "source": [
    "# Problem 2"
   ]
  },
  {
   "cell_type": "markdown",
   "id": "9b656734",
   "metadata": {},
   "source": [
    "## (Given starter code)"
   ]
  },
  {
   "cell_type": "code",
   "execution_count": 4,
   "id": "60c1af15",
   "metadata": {},
   "outputs": [],
   "source": [
    "import torch\n",
    "import torch.utils.data as data \n",
    "import torch.nn as nn\n",
    "from torch.distributions.normal import Normal\n",
    "import numpy as np\n",
    "import matplotlib.pyplot as plt\n",
    "\n",
    "def mixture_of_gaussians(num, mu_var=(-1,0.25, 0.2,0.25, 1.5,0.25)):\n",
    "    n = num // 3\n",
    "    m1,s1,m2,s2,m3,s3 = mu_var\n",
    "    gaussian1 = np.random.normal(loc=m1, scale=s1, size=(n,))\n",
    "    gaussian2 = np.random.normal(loc=m2, scale=s2, size=(n,))\n",
    "    gaussian3 = np.random.normal(loc=m3, scale=s3, size=(num-n,))\n",
    "    return np.concatenate([gaussian1, gaussian2, gaussian3])\n",
    "\n",
    "class MyDataset(data.Dataset):\n",
    "    def __init__(self, array):\n",
    "        super().__init__()\n",
    "        self.array = array\n",
    "\n",
    "    def __len__(self):\n",
    "        return len(self.array)\n",
    "\n",
    "    def __getitem__(self, index):\n",
    "        return self.array[index]"
   ]
  },
  {
   "cell_type": "markdown",
   "id": "8d39a9c1",
   "metadata": {},
   "source": [
    "## Flow model"
   ]
  },
  {
   "cell_type": "markdown",
   "id": "ffbef423",
   "metadata": {},
   "source": [
    "Adpated from `Chapter 5 Code.ipynb`"
   ]
  },
  {
   "cell_type": "code",
   "execution_count": 5,
   "id": "16460bb4",
   "metadata": {},
   "outputs": [],
   "source": [
    "class Flow1d(nn.Module):\n",
    "    def __init__(self, n_components):\n",
    "        super(Flow1d, self).__init__()\n",
    "        self.weight_logits = nn.Parameter(torch.ones(n_components), requires_grad=True)\n",
    "        self.mus = nn.Parameter(torch.randn(n_components), requires_grad=True)\n",
    "        self.log_sigmas = nn.Parameter(torch.zeros(n_components), requires_grad=True)\n",
    "\n",
    "    def forward(self, x):\n",
    "        x = x.view(-1,1)\n",
    "        weights = self.weight_logits.exp().view(1,-1)  # edited - no softmax, just exponentiate\n",
    "        distribution = Normal(self.mus, self.log_sigmas.exp())\n",
    "        z = ((distribution.cdf(x) - 0.5) * weights).sum(dim=1)  # edited - subtract 0.5\n",
    "        # distribution.log_prob(x).exp() is the PDF (the derivative of CDF which we want for dz_by_dx)\n",
    "        dz_by_dx = (distribution.log_prob(x).exp() * weights).sum(dim=1)\n",
    "        return z, dz_by_dx"
   ]
  },
  {
   "cell_type": "markdown",
   "id": "76c015df",
   "metadata": {},
   "source": [
    "## Train/fit flow model"
   ]
  },
  {
   "cell_type": "markdown",
   "id": "1a874b7a",
   "metadata": {},
   "source": [
    "Directly copied from `Chapter 5 Code.ipynb` with hyperparameter tuning"
   ]
  },
  {
   "cell_type": "code",
   "execution_count": 6,
   "id": "cd478d08",
   "metadata": {},
   "outputs": [],
   "source": [
    "epochs = 200\n",
    "learning_rate = 5.6e-3\n",
    "batch_size = 128\n",
    "n_components = 5  # specified in problem\n",
    "target_distribution = Normal(0.0, 1.0)  # specified in problem"
   ]
  },
  {
   "cell_type": "code",
   "execution_count": 7,
   "id": "cc927038",
   "metadata": {},
   "outputs": [
    {
     "data": {
      "text/plain": [
       "<matplotlib.legend.Legend at 0x173c8c0d0>"
      ]
     },
     "execution_count": 7,
     "metadata": {},
     "output_type": "execute_result"
    },
    {
     "data": {
      "image/png": "[encoded data removed]",
      "text/plain": [
       "<Figure size 640x480 with 1 Axes>"
      ]
     },
     "metadata": {},
     "output_type": "display_data"
    }
   ],
   "source": [
    "################################\n",
    "# STEP 3: Define Loss Function #\n",
    "################################\n",
    "def loss_function(target_distribution, z, dz_by_dx):\n",
    "    # log(p_Z(z)) = target_distribution.log_prob(z)\n",
    "    # log(dz/dx) = dz_by_dx.log() (flow is defined so that dz/dx>0)\n",
    "    log_likelihood = target_distribution.log_prob(z) + dz_by_dx.log()\n",
    "    return -log_likelihood.mean()  #flip sign (minimise in code, maximise in original problem), and sum of data X_1,...X_N\n",
    "    \n",
    "###########################\n",
    "# STEP 4: Train the model #\n",
    "########################### \n",
    "\n",
    "# create dataloader\n",
    "n_train, n_test = 5000, 1000\n",
    "train_data = mixture_of_gaussians(n_train)\n",
    "test_data = mixture_of_gaussians(n_test)\n",
    "\n",
    "train_loader = data.DataLoader(MyDataset(train_data), batch_size=batch_size, shuffle=True)\n",
    "test_loader = data.DataLoader(MyDataset(test_data), batch_size=batch_size, shuffle=True)\n",
    "\n",
    "# create model\n",
    "flow = Flow1d(n_components)\n",
    "optimizer = torch.optim.Adam(flow.parameters(), lr=learning_rate)\n",
    "\n",
    "train_losses, test_losses = [], []\n",
    "\n",
    "for epoch in range(epochs):\n",
    "    # train\n",
    "#     flow.train()\n",
    "    mean_loss = 0\n",
    "    for i, x in enumerate(train_loader):\n",
    "        z, dz_by_dx = flow(x)\n",
    "        loss = loss_function(target_distribution, z, dz_by_dx)\n",
    "        optimizer.zero_grad()\n",
    "        loss.backward()\n",
    "        optimizer.step()\n",
    "\n",
    "        mean_loss += loss.item()\n",
    "    train_losses.append(mean_loss/(i+1))\n",
    "\n",
    "    # test\n",
    "    flow.eval()\n",
    "    mean_loss = 0\n",
    "    for i, x in enumerate(test_loader):\n",
    "        z, dz_by_dx = flow(x)\n",
    "        loss = loss_function(target_distribution, z, dz_by_dx)\n",
    "\n",
    "        mean_loss += loss.item()\n",
    "    test_losses.append(mean_loss/(i+1))\n",
    "    \n",
    "plt.plot(train_losses, label='train_loss')\n",
    "plt.plot(test_losses, label='test_loss')\n",
    "plt.legend()"
   ]
  },
  {
   "cell_type": "markdown",
   "id": "4c089cac",
   "metadata": {},
   "source": [
    "## Visualise results"
   ]
  },
  {
   "cell_type": "code",
   "execution_count": 8,
   "id": "218eda2d",
   "metadata": {},
   "outputs": [
    {
     "data": {
      "image/png": "[encoded data removed]",
      "text/plain": [
       "<Figure size 1200x400 with 2 Axes>"
      ]
     },
     "metadata": {},
     "output_type": "display_data"
    }
   ],
   "source": [
    "x = np.linspace(-3,3,1000)\n",
    "with torch.no_grad():\n",
    "    z, dz_by_dx = flow(torch.FloatTensor(x))\n",
    "    px = (target_distribution.log_prob(z) + dz_by_dx.log()).exp().cpu().numpy()\n",
    "    \n",
    "_, axes = plt.subplots(1,2, figsize=(12,4))\n",
    "_ = axes[0].plot(x,px)\n",
    "_ = axes[0].set_title('Learned distribution')\n",
    "\n",
    "_ = axes[1].plot(x,z)\n",
    "_ = axes[1].set_title('x -> z')"
   ]
  },
  {
   "cell_type": "markdown",
   "id": "c14fcc6d",
   "metadata": {},
   "source": [
    "### Investigate efficacy of learned transformation on train data, i.e. visualise $p_Z$ using train data"
   ]
  },
  {
   "cell_type": "code",
   "execution_count": 9,
   "id": "20ab7924",
   "metadata": {},
   "outputs": [
    {
     "data": {
      "image/png": "[encoded data removed]",
      "text/plain": [
       "<Figure size 640x480 with 1 Axes>"
      ]
     },
     "metadata": {},
     "output_type": "display_data"
    }
   ],
   "source": [
    "with torch.no_grad():\n",
    "    z, _ = flow(torch.FloatTensor(train_loader.dataset.array))\n",
    "    \n",
    "_ = plt.hist(np.array(train_loader.dataset.array), bins=50, alpha=0.3, color='r', label='input data')\n",
    "_ = plt.hist(np.array(z), bins=50, alpha=0.8, label='transformed')\n",
    "_ = plt.legend()\n",
    "\n",
    "# overlay additional 'true' normal distribution\n",
    "# z_true = torch.tensor(np.linspace(-3,3,1000))\n",
    "# plt.plot(z_true, target_distribution.log_prob(z_true).exp().numpy()*[scaling?], 'r')"
   ]
  },
  {
   "cell_type": "markdown",
   "id": "e8f3e236",
   "metadata": {},
   "source": [
    "The learned transformation is very effective on the training data with a very good normal-looking bell curve"
   ]
  },
  {
   "cell_type": "markdown",
   "id": "4cec2f8e",
   "metadata": {},
   "source": [
    "### Investigate efficacy of learned transformation on test data, i.e. visualise $p_Z$ using test data"
   ]
  },
  {
   "cell_type": "code",
   "execution_count": 10,
   "id": "696d010a",
   "metadata": {},
   "outputs": [
    {
     "data": {
      "image/png": "[encoded data removed]",
      "text/plain": [
       "<Figure size 640x480 with 1 Axes>"
      ]
     },
     "metadata": {},
     "output_type": "display_data"
    }
   ],
   "source": [
    "with torch.no_grad():\n",
    "    z, _ = flow(torch.FloatTensor(test_loader.dataset.array))\n",
    "    \n",
    "_ = plt.hist(np.array(test_loader.dataset.array), bins=50, alpha=0.3, color='r', label='input data')\n",
    "_ = plt.hist(np.array(z), bins=50, alpha=0.8, label='transformed')\n",
    "_ = plt.legend()"
   ]
  },
  {
   "cell_type": "markdown",
   "id": "589510a0",
   "metadata": {},
   "source": [
    "The transformation is (as expected) less effective on the test data but still manages to funamentally transform the input data much closer towards a normal distribution."
   ]
  },
  {
   "cell_type": "markdown",
   "id": "6c638952",
   "metadata": {},
   "source": [
    "### See 'true' distribution using $f_\\theta^{-1}$ "
   ]
  },
  {
   "cell_type": "code",
   "execution_count": 12,
   "id": "259a79e5",
   "metadata": {},
   "outputs": [
    {
     "data": {
      "image/png": "[encoded data removed]",
      "text/plain": [
       "<Figure size 600x400 with 1 Axes>"
      ]
     },
     "metadata": {},
     "output_type": "display_data"
    }
   ],
   "source": [
    "# sampling from z~N(0,1)\n",
    "N = 5000\n",
    "z = torch.normal(mean = torch.zeros(N), std = torch.ones(N))\n",
    "x_low = torch.full((N,), -3.)\n",
    "x_high = torch.full((N,), 3.)\n",
    "\n",
    "# Perform bisection to invert the flow\n",
    "with torch.no_grad():\n",
    "    for _ in range(30):\n",
    "        m = (x_low+x_high)/2\n",
    "        f,_ = flow(m)\n",
    "        x_high[f>=z] = m[f>=z]\n",
    "        x_low[f<z] = m[f<z]\n",
    "    x = (x_low+x_high)/2\n",
    "\n",
    "fig = plt.figure(figsize=(6,4))\n",
    "_ = plt.hist(np.array(x), bins=50, label='learned z->x')\n",
    "_ = plt.hist(np.array(train_data), bins=50, alpha=0.3, color='r', label='train data')\n",
    "plt.legend()\n",
    "plt.show()"
   ]
  }
 ],
 "metadata": {
  "kernelspec": {
   "display_name": "Python 3",
   "language": "python",
   "name": "python3"
  },
  "language_info": {
   "codemirror_mode": {
    "name": "ipython",
    "version": 3
   },
   "file_extension": ".py",
   "mimetype": "text/x-python",
   "name": "python",
   "nbconvert_exporter": "python",
   "pygments_lexer": "ipython3",
   "version": "3.11.8"
  }
 },
 "nbformat": 4,
 "nbformat_minor": 5
}
