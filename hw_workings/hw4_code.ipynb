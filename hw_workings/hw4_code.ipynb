{
 "cells": [
  {
   "cell_type": "code",
   "execution_count": 1,
   "id": "initial_id",
   "metadata": {
    "ExecuteTime": {
     "end_time": "2024-04-01T07:17:35.056030Z",
     "start_time": "2024-04-01T07:17:35.047163Z"
    },
    "collapsed": true
   },
   "outputs": [
    {
     "name": "stdout",
     "output_type": "stream",
     "text": [
      "Python version: 3.11.8 | packaged by conda-forge | (main, Feb 16 2024, 20:49:36) [Clang 16.0.6 ]\n",
      "Numpy version: 1.26.4\n",
      "Matplotlib version: 3.8.0\n",
      "PyTorch version: 2.2.1\n"
     ]
    }
   ],
   "source": [
    "import sys\n",
    "import time\n",
    "\n",
    "import numpy as np\n",
    "import matplotlib\n",
    "import torch\n",
    "\n",
    "%matplotlib inline\n",
    "print(f\"Python version: {sys.version}\\nNumpy version: {np.__version__}\\nMatplotlib version: {matplotlib.__version__}\\nPyTorch version: {torch.__version__}\")"
   ]
  },
  {
   "cell_type": "markdown",
   "id": "e051ff4acef4837b",
   "metadata": {
    "collapsed": false
   },
   "source": [
    "# Problem 6"
   ]
  },
  {
   "cell_type": "code",
   "execution_count": 2,
   "id": "79a4b039cbdfdf27",
   "metadata": {
    "ExecuteTime": {
     "end_time": "2024-04-01T07:22:30.773549Z",
     "start_time": "2024-04-01T07:22:30.771360Z"
    },
    "collapsed": false
   },
   "outputs": [],
   "source": [
    "MNIST_DATA_PATH = '../../Lectures Slides {MFDNN}/Notebooks {MFDNN}/mnist_data'"
   ]
  },
  {
   "cell_type": "markdown",
   "id": "fe7495a8111bfaed",
   "metadata": {
    "collapsed": false
   },
   "source": [
    "## Copied code from `Chapter 2 Code.ipynb`"
   ]
  },
  {
   "cell_type": "markdown",
   "id": "7e85957c89da0529",
   "metadata": {
    "collapsed": false
   },
   "source": [
    "### Data set up"
   ]
  },
  {
   "cell_type": "code",
   "execution_count": 3,
   "id": "cffbca37dc2d8f82",
   "metadata": {
    "ExecuteTime": {
     "end_time": "2024-04-01T07:22:32.241820Z",
     "start_time": "2024-04-01T07:22:32.169609Z"
    },
    "collapsed": false
   },
   "outputs": [],
   "source": [
    "import torch\n",
    "import torch.nn as nn\n",
    "from torch.optim import Optimizer\n",
    "from torch.utils.data import DataLoader\n",
    "from torchvision import datasets\n",
    "from torchvision.transforms import transforms\n",
    "import matplotlib.pyplot as plt\n",
    "from random import shuffle\n",
    "\n",
    "\n",
    "# Use data with only 4 and 9 as labels: which is hardest to classify\n",
    "label_1, label_2 = 4, 9\n",
    "\n",
    "# MNIST training data\n",
    "train_set = datasets.MNIST(root=MNIST_DATA_PATH, train=True, transform=transforms.ToTensor(), download=True)\n",
    "\n",
    "# Use data with two labels\n",
    "idx = (train_set.targets == label_1) + (train_set.targets == label_2)\n",
    "train_set.data = train_set.data[idx]\n",
    "train_set.targets = train_set.targets[idx]\n",
    "train_set.targets[train_set.targets == label_1] = -1\n",
    "train_set.targets[train_set.targets == label_2] = 1\n",
    "\n",
    "# MNIST testing data\n",
    "test_set = datasets.MNIST(root=MNIST_DATA_PATH, train=False, transform=transforms.ToTensor())\n",
    "\n",
    "# Use data with two labels\n",
    "idx = (test_set.targets == label_1) + (test_set.targets == label_2)\n",
    "test_set.data = test_set.data[idx]\n",
    "test_set.targets = test_set.targets[idx]\n",
    "test_set.targets[test_set.targets == label_1] = -1\n",
    "test_set.targets[test_set.targets == label_2] = 1"
   ]
  },
  {
   "cell_type": "code",
   "execution_count": 4,
   "id": "08d3217f",
   "metadata": {},
   "outputs": [],
   "source": [
    "device = \"cpu\""
   ]
  },
  {
   "cell_type": "markdown",
   "id": "c531d629e04dbc30",
   "metadata": {
    "collapsed": false
   },
   "source": [
    "### Logistic Regression Model"
   ]
  },
  {
   "cell_type": "code",
   "execution_count": 5,
   "id": "d43ed71d5e16358",
   "metadata": {
    "ExecuteTime": {
     "end_time": "2024-04-01T07:22:33.511784Z",
     "start_time": "2024-04-01T07:22:33.509093Z"
    },
    "collapsed": false
   },
   "outputs": [],
   "source": [
    "class LR(nn.Module):\n",
    "    def __init__(self, input_dim=28*28):\n",
    "        super().__init__()\n",
    "        self.linear_layer = nn.Linear(input_dim, 1, bias=False)  # change code from copied - we want to use bias (b) given in Q\n",
    "\n",
    "    def forward(self, x):\n",
    "        return self.linear_layer(x.float().view(-1, 28*28))"
   ]
  },
  {
   "cell_type": "code",
   "execution_count": 15,
   "id": "7e6b12517a3bf218",
   "metadata": {
    "ExecuteTime": {
     "end_time": "2024-04-01T07:22:34.025600Z",
     "start_time": "2024-04-01T07:22:34.022366Z"
    },
    "collapsed": false
   },
   "outputs": [],
   "source": [
    "def logistic_loss(output, target):  # equivalent to minimising KL-divergence (see Chapter 2)\n",
    "    # reshaping and mean necessary for enabling of batch processing\n",
    "    return torch.mean(-torch.nn.functional.logsigmoid(target.reshape(-1)*output.reshape(-1)))\n",
    "\n",
    "def sum_of_squares_loss(output, target):\n",
    "    # label 4 = -1, label 9 = 1\n",
    "    loss_4 = (torch.square(1 - torch.sigmoid(-output.reshape(-1))) + torch.square(torch.sigmoid(output.reshape(-1))))\n",
    "    loss_9 = (torch.square(torch.sigmoid(-output.reshape(-1))) + torch.square(1 - torch.sigmoid(output.reshape(-1))))\n",
    "    return torch.mean(\n",
    "        0.5 * (1 - target.reshape(-1)) * loss_4\n",
    "      + 0.5 * (1 + target.reshape(-1)) * loss_9\n",
    "    )"
   ]
  },
  {
   "cell_type": "code",
   "execution_count": 20,
   "id": "2396832bbeefbea1",
   "metadata": {
    "ExecuteTime": {
     "end_time": "2024-04-01T07:22:39.249727Z",
     "start_time": "2024-04-01T07:22:39.238976Z"
    },
    "collapsed": false
   },
   "outputs": [
    {
     "name": "stdout",
     "output_type": "stream",
     "text": [
      "tensor(2.)\n",
      "tensor(0.)\n",
      "tensor(0.)\n",
      "tensor(2.)\n",
      "tensor(0.)\n"
     ]
    }
   ],
   "source": [
    "# testing loss function works as expected\n",
    "print(sum_of_squares_loss(torch.as_tensor([1000000]), torch.as_tensor([-1])))              # label incorrect\n",
    "print(sum_of_squares_loss(torch.as_tensor([-1000000]), torch.as_tensor([-1])))             # label correct\n",
    "print(sum_of_squares_loss(torch.as_tensor([1000000]), torch.as_tensor([1])))               # label correct\n",
    "print(sum_of_squares_loss(torch.as_tensor([-1000000]), torch.as_tensor([1])))              # label incorrect\n",
    "\n",
    "print(sum_of_squares_loss(torch.as_tensor([1000000, -100000]), torch.as_tensor([1, -1])))  # both labels correct"
   ]
  },
  {
   "cell_type": "code",
   "execution_count": 21,
   "id": "64d8309e54bc01dd",
   "metadata": {
    "ExecuteTime": {
     "end_time": "2024-04-01T07:25:18.479581Z",
     "start_time": "2024-04-01T07:25:18.475771Z"
    },
    "collapsed": false
   },
   "outputs": [],
   "source": [
    "def plot_loss(loss_array):\n",
    "    \"\"\"Plot the recorded loss (assumed per iteration)\"\"\"\n",
    "    n = len(loss_array)\n",
    "    plt.plot(range(n), loss_array, 'r')\n",
    "    plt.xlabel('Iterations')\n",
    "    plt.ylabel('Average test set loss')\n",
    "    plt.ylim(0, np.max(loss_array)*1.1)\n",
    "    plt.title('Average test loss over successive iterations')\n",
    "    plt.show()"
   ]
  },
  {
   "cell_type": "code",
   "execution_count": 22,
   "id": "b8d38733f06e0be1",
   "metadata": {
    "ExecuteTime": {
     "end_time": "2024-04-01T07:22:42.638992Z",
     "start_time": "2024-04-01T07:22:42.635329Z"
    },
    "collapsed": false
   },
   "outputs": [],
   "source": [
    "def test_performance(model, loss_function):\n",
    "    test_loss, correct = 0, 0\n",
    "    \n",
    "    # Test data\n",
    "    test_loader = DataLoader(dataset=test_set, batch_size=1, shuffle=False)\n",
    "    # no need to shuffle test data\n",
    "    \n",
    "    for ind, (image, label) in enumerate(test_loader) :\n",
    "        image, label = image.to(device), label.to(device)\n",
    "        \n",
    "        output = model(image)\n",
    "    \n",
    "        test_loss += loss_function(output, label.float()).item()\n",
    "    \n",
    "        if output.item() * label.item() >= 0 :\n",
    "            correct += 1\n",
    "    \n",
    "    return test_loss/len(test_loader), 100. * correct/len(test_loader)"
   ]
  },
  {
   "cell_type": "code",
   "execution_count": 23,
   "id": "99e13187d781f9ea",
   "metadata": {
    "ExecuteTime": {
     "end_time": "2024-04-01T07:25:45.378461Z",
     "start_time": "2024-04-01T07:25:45.372903Z"
    },
    "collapsed": false
   },
   "outputs": [],
   "source": [
    "def train_model(loss_function, num_epochs=30, alpha=255*1e-4):\n",
    "    lr_model = LR().to(device)\n",
    "    optimizer = torch.optim.SGD(lr_model.parameters(), lr=alpha)   # specify SGD with learning rate\n",
    "    \n",
    "    train_loader = DataLoader(dataset=train_set, batch_size=64, shuffle=True)\n",
    "    test_loss = []\n",
    "    \n",
    "    start = time.time()\n",
    "    for epoch_k in range(num_epochs):\n",
    "        print(f\"Starting epoch {epoch_k+1:>5}/{num_epochs}\", end='\\r')\n",
    "        for images, labels in train_loader:\n",
    "            images, labels = images.to(device), labels.to(device)\n",
    "            \n",
    "            optimizer.zero_grad()\n",
    "    \n",
    "            train_loss = loss_function(lr_model(images).to(device), labels.float())\n",
    "            train_loss.backward()\n",
    "    \n",
    "            optimizer.step()\n",
    "        test_loss.append(test_performance(lr_model, loss_function)[0])\n",
    "    end = time.time()\n",
    "    print(f\"Time elapsed in training is: {end - start}\")\n",
    "    print(f\"Final accuracy: {test_performance(lr_model, loss_function)[1]:.2f}%\")\n",
    "    return lr_model, test_loss"
   ]
  },
  {
   "cell_type": "code",
   "execution_count": 11,
   "id": "3e5e80bba6958655",
   "metadata": {
    "ExecuteTime": {
     "end_time": "2024-04-01T07:24:40.721458Z",
     "start_time": "2024-04-01T07:22:47.238899Z"
    },
    "collapsed": false
   },
   "outputs": [
    {
     "name": "stdout",
     "output_type": "stream",
     "text": [
      "Training model using logistic loss\n",
      "Time elapsed in training is: 11.294185161590576\n",
      "Final accuracy: 96.03%\n"
     ]
    },
    {
     "data": {
      "image/png": "[encoded data removed]",
      "text/plain": [
       "<Figure size 640x480 with 1 Axes>"
      ]
     },
     "metadata": {},
     "output_type": "display_data"
    }
   ],
   "source": [
    "print(\"Training model using logistic loss\")\n",
    "logistic_model, test_loss = train_model(logistic_loss, 20, 0.01)\n",
    "plot_loss(test_loss)"
   ]
  },
  {
   "cell_type": "code",
   "execution_count": 25,
   "id": "f69a6d58",
   "metadata": {},
   "outputs": [
    {
     "name": "stdout",
     "output_type": "stream",
     "text": [
      "Training model using sum of squares loss\n",
      "Time elapsed in training is: 13.514590978622437\n",
      "Final accuracy: 95.88%\n"
     ]
    },
    {
     "data": {
      "image/png": "[encoded data removed]",
      "text/plain": [
       "<Figure size 640x480 with 1 Axes>"
      ]
     },
     "metadata": {},
     "output_type": "display_data"
    }
   ],
   "source": [
    "print(\"Training model using sum of squares loss\")\n",
    "sos_model, test_loss = train_model(sum_of_squares_loss, 20, 0.01)\n",
    "plot_loss(test_loss)"
   ]
  },
  {
   "cell_type": "markdown",
   "id": "2586e70ea8b87d79",
   "metadata": {
    "collapsed": false
   },
   "source": [
    "# Problem 7"
   ]
  },
  {
   "cell_type": "code",
   "execution_count": 138,
   "id": "79bdc4cf89165dc6",
   "metadata": {
    "ExecuteTime": {
     "end_time": "2024-04-01T07:18:25.153136Z",
     "start_time": "2024-04-01T07:18:25.108859Z"
    },
    "collapsed": false
   },
   "outputs": [
    {
     "name": "stdout",
     "output_type": "stream",
     "text": [
      "Pytorch using device=\"mps\"\n"
     ]
    }
   ],
   "source": [
    "import torch\n",
    "import torch.nn as nn\n",
    "from torch.optim import Optimizer\n",
    "from torch.utils.data import DataLoader\n",
    "from torchvision import datasets\n",
    "from torchvision.transforms import transforms\n",
    "\n",
    "device = torch.device(\"cuda\" if torch.cuda.is_available() else \"cpu\")\n",
    "device = torch.device(\"mps\" if torch.backends.mps.is_available() else \"cpu\")\n",
    "\n",
    "'''\n",
    "Step 1:\n",
    "'''\n",
    "\n",
    "# MNIST dataset\n",
    "train_dataset = datasets.MNIST(root=MNIST_DATA_PATH,\n",
    "                               train=True,\n",
    "                               transform=transforms.ToTensor(),\n",
    "                               download=True)\n",
    "\n",
    "test_dataset = datasets.MNIST(root=MNIST_DATA_PATH,\n",
    "                              train=False,\n",
    "                              transform=transforms.ToTensor())\n",
    "\n",
    "\n",
    "'''\n",
    "Step 2: LeNet5\n",
    "'''\n",
    "\n",
    "# Modern LeNet uses this layer for C3\n",
    "class C3_layer_full(nn.Module):\n",
    "    def __init__(self):\n",
    "        super(C3_layer_full, self).__init__()\n",
    "        self.conv_layer = nn.Conv2d(6, 16, kernel_size=5)\n",
    "\n",
    "    def forward(self, x):\n",
    "        return self.conv_layer(x)\n",
    "\n",
    "# Original LeNet uses this layer for C3\n",
    "class C3_layer(nn.Module):\n",
    "    def __init__(self):\n",
    "        super(C3_layer, self).__init__()\n",
    "        print('using subset layer')\n",
    "        self.ch_in_3 = [[0, 1, 2],\n",
    "                        [1, 2, 3],\n",
    "                        [2, 3, 4],\n",
    "                        [3, 4, 5],\n",
    "                        [0, 4, 5],\n",
    "                        [0, 1, 5]] # filter with 3 subset of input channels\n",
    "        self.ch_in_4 = [[0, 1, 2, 3],\n",
    "                        [1, 2, 3, 4],\n",
    "                        [2, 3, 4, 5],\n",
    "                        [0, 3, 4, 5],\n",
    "                        [0, 1, 4, 5],\n",
    "                        [0, 1, 2, 5],\n",
    "                        [0, 1, 3, 4],\n",
    "                        [1, 2, 4, 5],\n",
    "                        [0, 2, 3, 5]] # filter with 4 subset of input channels\n",
    "        self.ch_in_6 = [[i for i in range(6)]]  # filter with all 6 input channels\n",
    "        self.input_channel_subsets = self.ch_in_3 + self.ch_in_4 + self.ch_in_6\n",
    "        self.channels = nn.ModuleList([nn.Conv2d(len(input_ch), 1, kernel_size=5) for input_ch in self.input_channel_subsets])\n",
    "\n",
    "    def forward(self, x):\n",
    "        output = torch.Tensor().to(device)\n",
    "        for conv, input_channels in zip(self.channels, self.input_channel_subsets):\n",
    "            conv_channel_output = conv(x[:, input_channels, :, :])\n",
    "            output = torch.cat([output, conv_channel_output.to(device)], dim=1)  # concatenate in channel (2nd) dimension\n",
    "        return output\n",
    "\n",
    "class LeNet(nn.Module) :\n",
    "    def __init__(self, variety='full') :\n",
    "        super(LeNet, self).__init__()\n",
    "        #padding=2 makes 28x28 image into 32x32\n",
    "        self.C1_layer = nn.Sequential(\n",
    "            nn.Conv2d(1, 6, kernel_size=5, padding=2),\n",
    "            nn.Tanh()\n",
    "        )\n",
    "        self.P2_layer = nn.Sequential(\n",
    "            nn.AvgPool2d(kernel_size=2, stride=2),\n",
    "            nn.Tanh()\n",
    "        )\n",
    "        \n",
    "        if variety == 'full':\n",
    "            self.C3_layer = nn.Sequential(\n",
    "                C3_layer_full(),\n",
    "                nn.Tanh()\n",
    "            )\n",
    "        elif variety == 'subset':\n",
    "            self.C3_layer = nn.Sequential(\n",
    "                C3_layer(),\n",
    "                nn.Tanh()\n",
    "            )\n",
    "        else:\n",
    "            raise NotImplementedError('One of either `full` or `subset` is required for variety argument.')\n",
    "            \n",
    "        self.P4_layer = nn.Sequential(\n",
    "            nn.AvgPool2d(kernel_size=2, stride=2),\n",
    "            nn.Tanh()\n",
    "        )\n",
    "        self.C5_layer = nn.Sequential(\n",
    "            nn.Linear(5*5*16, 120),\n",
    "            nn.Tanh()\n",
    "        )\n",
    "        self.F6_layer = nn.Sequential(\n",
    "            nn.Linear(120, 84),\n",
    "            nn.Tanh()\n",
    "        )\n",
    "        self.F7_layer = nn.Linear(84, 10)\n",
    "        self.tanh = nn.Tanh()\n",
    "\n",
    "    def forward(self, x) :\n",
    "        output = self.C1_layer(x)\n",
    "        output = self.P2_layer(output)\n",
    "        output = self.C3_layer(output)\n",
    "        output = self.P4_layer(output)\n",
    "        output = output.view(-1,5*5*16)\n",
    "        output = self.C5_layer(output)\n",
    "        output = self.F6_layer(output)\n",
    "        output = self.F7_layer(output)\n",
    "        return output\n",
    "    \n",
    "print(f'Pytorch using device=\"{device}\"')"
   ]
  },
  {
   "cell_type": "code",
   "execution_count": 139,
   "id": "25b17a3b73c4b75f",
   "metadata": {
    "ExecuteTime": {
     "end_time": "2024-04-01T07:18:32.233235Z",
     "start_time": "2024-04-01T07:18:32.227586Z"
    },
    "collapsed": false
   },
   "outputs": [],
   "source": [
    "'''\n",
    "Step 3\n",
    "'''\n",
    "def run_train_test_results(model):\n",
    "    loss_function = torch.nn.CrossEntropyLoss()\n",
    "    optimizer = torch.optim.SGD(model.parameters(), lr=1e-1)\n",
    "    \n",
    "    # print total number of trainable parameters\n",
    "    param_ct = sum([p.numel() for p in model.parameters()])\n",
    "    print(f\"Total number of trainable parameters: {param_ct}\")\n",
    "    \n",
    "    '''\n",
    "    Step 4\n",
    "    '''\n",
    "    train_loader = torch.utils.data.DataLoader(dataset=train_dataset, batch_size=100, shuffle=True)\n",
    "    \n",
    "    import time\n",
    "    start = time.time()\n",
    "    for epoch in range(10) :\n",
    "        print(\"{}th epoch starting.\".format(epoch))\n",
    "        for images, labels in train_loader :\n",
    "            images, labels = images.to(device), labels.to(device)\n",
    "    \n",
    "            optimizer.zero_grad()\n",
    "            train_loss = loss_function(model(images), labels)\n",
    "            train_loss.backward()\n",
    "    \n",
    "            optimizer.step()\n",
    "    end = time.time()\n",
    "    print(\"Time elapsed in training is: {}\".format(end - start))\n",
    "    \n",
    "    \n",
    "    '''\n",
    "    Step 5\n",
    "    '''\n",
    "    test_loss, correct, total = 0, 0, 0\n",
    "    \n",
    "    test_loader = torch.utils.data.DataLoader(dataset=test_dataset, batch_size=100, shuffle=False)\n",
    "    \n",
    "    for images, labels in test_loader :\n",
    "        images, labels = images.to(device), labels.to(device)\n",
    "    \n",
    "        output = model(images)\n",
    "        test_loss += loss_function(output, labels).item()\n",
    "    \n",
    "        pred = output.max(1, keepdim=True)[1]\n",
    "        correct += pred.eq(labels.view_as(pred)).sum().item()\n",
    "    \n",
    "        total += labels.size(0)\n",
    "    \n",
    "    print('[Test set] Average loss: {:.4f}, Accuracy: {}/{} ({:.2f}%)\\n'.format(\n",
    "        test_loss /total, correct, total,\n",
    "        100. * correct / total))"
   ]
  },
  {
   "cell_type": "code",
   "execution_count": 140,
   "id": "c5d9718449ea4cb2",
   "metadata": {
    "ExecuteTime": {
     "end_time": "2024-04-01T07:19:21.447757Z",
     "start_time": "2024-04-01T07:18:33.613977Z"
    },
    "collapsed": false
   },
   "outputs": [
    {
     "name": "stdout",
     "output_type": "stream",
     "text": [
      "Total number of trainable parameters: 61706\n",
      "0th epoch starting.\n",
      "1th epoch starting.\n",
      "2th epoch starting.\n",
      "3th epoch starting.\n",
      "4th epoch starting.\n",
      "5th epoch starting.\n",
      "6th epoch starting.\n",
      "7th epoch starting.\n",
      "8th epoch starting.\n",
      "9th epoch starting.\n",
      "Time elapsed in training is: 47.253567934036255\n",
      "[Test set] Average loss: 0.0005, Accuracy: 9830/10000 (98.30%)\n"
     ]
    }
   ],
   "source": [
    "full_model = LeNet('full').to(device)\n",
    "run_train_test_results(full_model)"
   ]
  },
  {
   "cell_type": "code",
   "execution_count": 141,
   "id": "6fe31baf3d970a98",
   "metadata": {
    "ExecuteTime": {
     "end_time": "2024-04-01T07:22:16.104433Z",
     "start_time": "2024-04-01T07:19:21.449631Z"
    },
    "collapsed": false
   },
   "outputs": [
    {
     "name": "stdout",
     "output_type": "stream",
     "text": [
      "using subset layer\n",
      "Total number of trainable parameters: 60806\n",
      "0th epoch starting.\n",
      "1th epoch starting.\n",
      "2th epoch starting.\n",
      "3th epoch starting.\n",
      "4th epoch starting.\n",
      "5th epoch starting.\n",
      "6th epoch starting.\n",
      "7th epoch starting.\n",
      "8th epoch starting.\n",
      "9th epoch starting.\n",
      "Time elapsed in training is: 172.8651237487793\n",
      "[Test set] Average loss: 0.0004, Accuracy: 9859/10000 (98.59%)\n"
     ]
    }
   ],
   "source": [
    "subset_model = LeNet('subset').to(device)\n",
    "run_train_test_results(subset_model)"
   ]
  },
  {
   "cell_type": "markdown",
   "id": "9f7e0827c9d2671f",
   "metadata": {
    "collapsed": false
   },
   "source": [
    "Observed reduction of $61706-60806=900$ trainable parameters.\n",
    "\n",
    "*The dimensions of each convolution's filter are given in order $\\left(C_{out}, C_{in}, k_x, k_y\\right)$ (see Chp. 3, slide 7)*\n",
    "\n",
    "In the regular convolution, there is one filter with dimension $\\left(16, 6, 5, 5\\right)$ giving **2400** trainable weight parameters.\n",
    "\n",
    "In the subset variation, there are 16 separate convolution filters:\n",
    "- 6 with dimension $\\left(1, 3, 5, 5\\right)$ for **450** weights total, \n",
    "- 9 with dimension $\\left(1, 4, 5, 5\\right)$ for **900** weights total, and\n",
    "- 1 with dimension $\\left(1, 6, 5, 5\\right)$ for **150** weights total.\n",
    "\n",
    "So the expected difference in trainable parameters is $2400-(450+900+150)=900$ which matches the print statement output!"
   ]
  }
 ],
 "metadata": {
  "kernelspec": {
   "display_name": "Python 3",
   "language": "python",
   "name": "python3"
  },
  "language_info": {
   "codemirror_mode": {
    "name": "ipython",
    "version": 3
   },
   "file_extension": ".py",
   "mimetype": "text/x-python",
   "name": "python",
   "nbconvert_exporter": "python",
   "pygments_lexer": "ipython3",
   "version": "3.11.8"
  }
 },
 "nbformat": 4,
 "nbformat_minor": 5
}
