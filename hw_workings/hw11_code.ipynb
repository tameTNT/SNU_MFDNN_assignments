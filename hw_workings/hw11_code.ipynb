{
 "cells": [
  {
   "cell_type": "code",
   "execution_count": 1,
   "id": "initial_id",
   "metadata": {
    "ExecuteTime": {
     "end_time": "2024-06-08T06:58:36.541182Z",
     "start_time": "2024-06-08T06:58:36.536835Z"
    },
    "collapsed": true
   },
   "outputs": [
    {
     "name": "stdout",
     "output_type": "stream",
     "text": [
      "Python version: 3.11.8 | packaged by conda-forge | (main, Feb 16 2024, 20:49:36) [Clang 16.0.6 ]\n",
      "Numpy version: 1.26.4\n",
      "Matplotlib version: 3.8.0\n",
      "PyTorch version: 2.3.0\n"
     ]
    }
   ],
   "source": [
    "import sys\n",
    "import time\n",
    "\n",
    "import numpy as np\n",
    "import matplotlib\n",
    "import matplotlib.pyplot as plt\n",
    "import torch\n",
    "\n",
    "%matplotlib inline\n",
    "print(f\"Python version: {sys.version}\\nNumpy version: {np.__version__}\\nMatplotlib version: {matplotlib.__version__}\\nPyTorch version: {torch.__version__}\")"
   ]
  },
  {
   "cell_type": "markdown",
   "id": "6d29af7e89bdb319",
   "metadata": {},
   "source": [
    "# Problem 3"
   ]
  },
  {
   "cell_type": "code",
   "execution_count": 2,
   "id": "7be0b8a68933fe75",
   "metadata": {
    "ExecuteTime": {
     "end_time": "2024-06-08T06:58:36.563157Z",
     "start_time": "2024-06-08T06:58:36.561245Z"
    }
   },
   "outputs": [],
   "source": [
    "MNIST_DATA_PATH = \"/Users/lucah/Library/CloudStorage/OneDrive-DurhamUniversity/Course Material & Work/SNU Year Abroad {SNU}/2-Spring Semester/Mathematical Foundations of Deep Neural Networks {MFDNN}/Lectures Slides {MFDNN}/Notebooks {MFDNN}/mnist_data\"\n",
    "NICE_MODEL_PATH = \"/Users/lucah/Library/CloudStorage/OneDrive-DurhamUniversity/Course Material & Work/SNU Year Abroad {SNU}/2-Spring Semester/Mathematical Foundations of Deep Neural Networks {MFDNN}/Homeworks {MFDNN}/nice.pt\""
   ]
  },
  {
   "cell_type": "markdown",
   "id": "db12736327ab5e0e",
   "metadata": {},
   "source": [
    "## Given steps"
   ]
  },
  {
   "cell_type": "markdown",
   "id": "e545c120c081904a",
   "metadata": {},
   "source": [
    "## Steps 1+2"
   ]
  },
  {
   "cell_type": "code",
   "execution_count": 3,
   "id": "62ef63a0e4c0649b",
   "metadata": {
    "ExecuteTime": {
     "end_time": "2024-06-08T06:58:36.566351Z",
     "start_time": "2024-06-08T06:58:36.564203Z"
    }
   },
   "outputs": [
    {
     "name": "stderr",
     "output_type": "stream",
     "text": [
      "/opt/anaconda3/envs/MFDNN/lib/python3.11/site-packages/torchvision/io/image.py:13: UserWarning: Failed to load image Python extension: 'dlopen(/opt/anaconda3/envs/MFDNN/lib/python3.11/site-packages/torchvision/image.so, 0x0006): Symbol not found: __ZN3c1017RegisterOperatorsD1Ev\n",
      "  Referenced from: <CFED5F8E-EC3F-36FD-AAA3-2C6C7F8D3DD9> /opt/anaconda3/envs/MFDNN/lib/python3.11/site-packages/torchvision/image.so\n",
      "  Expected in:     <E6933B13-F4A0-3821-8466-03F22A3B3739> /opt/anaconda3/envs/MFDNN/lib/python3.11/site-packages/torch/lib/libtorch_cpu.dylib'If you don't plan on using image functionality from `torchvision.io`, you can ignore this warning. Otherwise, there might be something wrong with your environment. Did you have `libjpeg` or `libpng` installed before building `torchvision` from source?\n",
      "  warn(\n"
     ]
    }
   ],
   "source": [
    "import torch\n",
    "import torch.nn as nn\n",
    "import torch.nn.functional as F\n",
    "from torch.utils.data import DataLoader\n",
    "from torchvision import datasets\n",
    "from torchvision.transforms import transforms"
   ]
  },
  {
   "cell_type": "code",
   "execution_count": 4,
   "id": "58ad68b70a2f6691",
   "metadata": {
    "ExecuteTime": {
     "end_time": "2024-06-08T06:58:36.585638Z",
     "start_time": "2024-06-08T06:58:36.567299Z"
    }
   },
   "outputs": [],
   "source": [
    "device = torch.device(\"cuda\" if torch.cuda.is_available() else \"cpu\")\n",
    "device = \"mps\"\n",
    "batch_size = 128\n",
    "\n",
    "'''\n",
    "Step 1:\n",
    "'''\n",
    "test_val_dataset = datasets.MNIST(root=MNIST_DATA_PATH,\n",
    "                                  train=False,\n",
    "                                  transform=transforms.ToTensor())\n",
    "\n",
    "test_dataset, validation_dataset = \\\n",
    "    torch.utils.data.random_split(test_val_dataset, [5000, 5000])\n",
    "\n",
    "# KMNIST dataset, only need test dataset\n",
    "anomaly_dataset = datasets.KMNIST(root='./kmnist_data/',\n",
    "                                  train=False,\n",
    "                                  transform=transforms.ToTensor(),\n",
    "                                  download=True)\n",
    "\n",
    "'''\n",
    "Step 2: \n",
    "'''\n",
    "# Define prior distribution\n",
    "class Logistic(torch.distributions.Distribution):\n",
    "    def __init__(self):\n",
    "        super(Logistic, self).__init__()\n",
    "\n",
    "    def log_prob(self, x):\n",
    "        return -(F.softplus(x) + F.softplus(-x))\n",
    "\n",
    "    def sample(self, size):\n",
    "        z = torch.distributions.Uniform(0., 1.).sample(size).to(device)\n",
    "        return torch.log(z) - torch.log(1. - z)\n",
    "\n",
    "# Implement coupling layer\n",
    "class Coupling(nn.Module):\n",
    "    def __init__(self, in_out_dim, mid_dim, hidden, mask_config):\n",
    "        super(Coupling, self).__init__()\n",
    "        self.mask_config = mask_config\n",
    "\n",
    "        self.in_block = \\\n",
    "            nn.Sequential(nn.Linear(in_out_dim//2, mid_dim), nn.ReLU())\n",
    "        self.mid_block = nn.ModuleList(\n",
    "            [nn.Sequential(nn.Linear(mid_dim, mid_dim), nn.ReLU())\n",
    "             for _ in range(hidden - 1)])\n",
    "        self.out_block = nn.Linear(mid_dim, in_out_dim//2)\n",
    "\n",
    "    def forward(self, x, reverse=False):\n",
    "        [B, W] = list(x.size())\n",
    "        x = x.reshape((B, W//2, 2))\n",
    "        if self.mask_config:\n",
    "            on, off = x[:, :, 0], x[:, :, 1]\n",
    "        else:\n",
    "            off, on = x[:, :, 0], x[:, :, 1]\n",
    "\n",
    "        off_ = self.in_block(off)\n",
    "        for i in range(len(self.mid_block)):\n",
    "            off_ = self.mid_block[i](off_)\n",
    "        shift = self.out_block(off_)\n",
    "\n",
    "        if reverse:\n",
    "            on = on - shift\n",
    "        else:\n",
    "            on = on + shift\n",
    "\n",
    "        if self.mask_config:\n",
    "            x = torch.stack((on, off), dim=2)\n",
    "        else:\n",
    "            x = torch.stack((off, on), dim=2)\n",
    "        return x.reshape((B, W))\n",
    "\n",
    "class Scaling(nn.Module):\n",
    "    def __init__(self, dim):\n",
    "        super(Scaling, self).__init__()\n",
    "        self.scale = nn.Parameter(torch.zeros((1, dim)))\n",
    "\n",
    "    def forward(self, x, reverse=False):\n",
    "        log_det_J = torch.sum(self.scale)\n",
    "        if reverse:\n",
    "            x = x * torch.exp(-self.scale)\n",
    "        else:\n",
    "            x = x * torch.exp(self.scale)\n",
    "        return x, log_det_J\n",
    "\n",
    "class NICE(nn.Module):\n",
    "    def __init__(self,in_out_dim, mid_dim, hidden,\n",
    "                 mask_config=1.0, coupling=4):\n",
    "        super(NICE, self).__init__()\n",
    "        self.prior = Logistic()\n",
    "        self.in_out_dim = in_out_dim\n",
    "\n",
    "        self.coupling = nn.ModuleList([\n",
    "            Coupling(in_out_dim=in_out_dim,\n",
    "                     mid_dim=mid_dim,\n",
    "                     hidden=hidden,\n",
    "                     mask_config=(mask_config+i)%2) \\\n",
    "            for i in range(coupling)])\n",
    "\n",
    "        self.scaling = Scaling(in_out_dim)\n",
    "\n",
    "    def g(self, z):\n",
    "        x, _ = self.scaling(z, reverse=True)\n",
    "        for i in reversed(range(len(self.coupling))):\n",
    "            x = self.coupling[i](x, reverse=True)\n",
    "        return x\n",
    "\n",
    "    def f(self, x):\n",
    "        for i in range(len(self.coupling)):\n",
    "            x = self.coupling[i](x)\n",
    "        z, log_det_J = self.scaling(x)\n",
    "        return z, log_det_J\n",
    "\n",
    "    def log_prob(self, x):\n",
    "        z, log_det_J = self.f(x)\n",
    "        log_ll = torch.sum(self.prior.log_prob(z), dim=1)\n",
    "        return log_ll + log_det_J\n",
    "\n",
    "    def sample(self, size):\n",
    "        z = self.prior.sample((size, self.in_out_dim)).to(device)\n",
    "        return self.g(z)\n",
    "\n",
    "    def forward(self, x):\n",
    "        return self.log_prob(x)"
   ]
  },
  {
   "cell_type": "markdown",
   "id": "df41b9d60edc4779",
   "metadata": {},
   "source": [
    "### Step 3: Load the pretrained model"
   ]
  },
  {
   "cell_type": "code",
   "execution_count": 5,
   "id": "d221a2fb25ddaee9",
   "metadata": {
    "ExecuteTime": {
     "end_time": "2024-06-08T06:58:36.804853Z",
     "start_time": "2024-06-08T06:58:36.586347Z"
    }
   },
   "outputs": [
    {
     "name": "stderr",
     "output_type": "stream",
     "text": [
      "/opt/anaconda3/envs/MFDNN/lib/python3.11/site-packages/torch/distributions/distribution.py:53: UserWarning: <class '__main__.Logistic'> does not define `arg_constraints`. Please set `arg_constraints = {}` or initialize the distribution with `validate_args=False` to turn off validation.\n",
      "  warnings.warn(\n"
     ]
    },
    {
     "data": {
      "text/plain": [
       "<All keys matched successfully>"
      ]
     },
     "execution_count": 5,
     "metadata": {},
     "output_type": "execute_result"
    }
   ],
   "source": [
    "nice = NICE(in_out_dim=784, mid_dim=1000, hidden=5).to(device)\n",
    "nice.load_state_dict(torch.load(NICE_MODEL_PATH, map_location=device))"
   ]
  },
  {
   "cell_type": "markdown",
   "id": "bf5c2c34c4d56179",
   "metadata": {},
   "source": [
    "## Tasks"
   ]
  },
  {
   "cell_type": "markdown",
   "id": "2176590db1639e8b",
   "metadata": {},
   "source": [
    "### Step 4: Calculate standard deviation by using validation set"
   ]
  },
  {
   "cell_type": "code",
   "execution_count": 6,
   "id": "3e7e1c6ac8b1662d",
   "metadata": {
    "ExecuteTime": {
     "end_time": "2024-06-08T06:58:37.070936Z",
     "start_time": "2024-06-08T06:58:36.806020Z"
    }
   },
   "outputs": [],
   "source": [
    "validation_loader = torch.utils.data.DataLoader(dataset=validation_dataset, batch_size=batch_size)\n",
    "\n",
    "log_p_thetas = torch.tensor([]).to(device)\n",
    "for images, _ in validation_loader:\n",
    "    log_lls = nice(images.view(-1, 784).to(device))\n",
    "    log_p_thetas = torch.cat((log_p_thetas, log_lls))\n",
    "    \n",
    "std = torch.std(log_p_thetas)\n",
    "mean = torch.mean(log_p_thetas)\n",
    "\n",
    "threshold = mean - 3 * std"
   ]
  },
  {
   "cell_type": "markdown",
   "id": "542b0d530ff8a1d3",
   "metadata": {},
   "source": [
    "### Step 5: Anomaly detection (mnist)"
   ]
  },
  {
   "cell_type": "code",
   "execution_count": 7,
   "id": "7231b63cb5811829",
   "metadata": {
    "ExecuteTime": {
     "end_time": "2024-06-08T06:58:37.297639Z",
     "start_time": "2024-06-08T06:58:37.071570Z"
    }
   },
   "outputs": [
    {
     "name": "stdout",
     "output_type": "stream",
     "text": [
      "66 type I errors among 5000 data\n"
     ]
    }
   ],
   "source": [
    "test_loader = torch.utils.data.DataLoader(dataset=test_dataset, batch_size=batch_size)\n",
    "count = 0\n",
    "for images, _ in test_loader:\n",
    "    log_lls: torch.Tensor = nice(images.view(-1, 784).to(device))\n",
    "    count += (log_lls < threshold).count_nonzero()  # images classed as anomalies (i.e. below the threshold)\n",
    "print(f'{count} type I errors among {len(test_dataset)} data')"
   ]
  },
  {
   "cell_type": "markdown",
   "id": "911c840b7cf70dc1",
   "metadata": {},
   "source": [
    "### Step 6: Anomaly detection (kmnist)"
   ]
  },
  {
   "cell_type": "code",
   "execution_count": 8,
   "id": "67fd859280b6ff43",
   "metadata": {
    "ExecuteTime": {
     "end_time": "2024-06-08T06:58:37.694945Z",
     "start_time": "2024-06-08T06:58:37.298446Z"
    }
   },
   "outputs": [
    {
     "name": "stdout",
     "output_type": "stream",
     "text": [
      "20 type II errors among 10000 data\n"
     ]
    }
   ],
   "source": [
    "anomaly_loader = torch.utils.data.DataLoader(dataset=anomaly_dataset, batch_size=batch_size)\n",
    "count = 0\n",
    "for images, _ in anomaly_loader:\n",
    "    log_lls: torch.Tensor = nice(images.view(-1, 784).to(device))\n",
    "    count += (log_lls >= threshold).count_nonzero()  # images classed as non-anomalies (i.e. above threshold)\n",
    "print(f'{count} type II errors among {len(anomaly_dataset)} data')"
   ]
  }
 ],
 "metadata": {
  "kernelspec": {
   "display_name": "Python 3",
   "language": "python",
   "name": "python3"
  },
  "language_info": {
   "codemirror_mode": {
    "name": "ipython",
    "version": 3
   },
   "file_extension": ".py",
   "mimetype": "text/x-python",
   "name": "python",
   "nbconvert_exporter": "python",
   "pygments_lexer": "ipython3",
   "version": "3.11.8"
  }
 },
 "nbformat": 4,
 "nbformat_minor": 5
}
