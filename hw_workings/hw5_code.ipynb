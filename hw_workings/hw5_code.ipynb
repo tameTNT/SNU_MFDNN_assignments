{
 "cells": [
  {
   "cell_type": "code",
   "execution_count": 1,
   "metadata": {
    "ExecuteTime": {
     "end_time": "2024-04-08T02:32:03.703286Z",
     "start_time": "2024-04-08T02:32:01.521898Z"
    }
   },
   "outputs": [
    {
     "name": "stdout",
     "output_type": "stream",
     "text": [
      "Python version: 3.11.8 | packaged by conda-forge | (main, Feb 16 2024, 20:49:36) [Clang 16.0.6 ]\n",
      "Numpy version: 1.26.4\n",
      "Matplotlib version: 3.8.0\n",
      "PyTorch version: 2.2.1\n"
     ]
    }
   ],
   "source": [
    "import sys\n",
    "import time\n",
    "\n",
    "import numpy as np\n",
    "import matplotlib\n",
    "import torch\n",
    "\n",
    "%matplotlib inline\n",
    "print(f\"Python version: {sys.version}\\nNumpy version: {np.__version__}\\nMatplotlib version: {matplotlib.__version__}\\nPyTorch version: {torch.__version__}\")"
   ]
  },
  {
   "cell_type": "markdown",
   "metadata": {},
   "source": [
    "# Problem 1"
   ]
  },
  {
   "cell_type": "markdown",
   "metadata": {},
   "source": [
    "## Setup"
   ]
  },
  {
   "cell_type": "code",
   "execution_count": 2,
   "metadata": {
    "ExecuteTime": {
     "end_time": "2024-04-08T02:32:03.890630Z",
     "start_time": "2024-04-08T02:32:03.877660Z"
    }
   },
   "outputs": [],
   "source": [
    "def sigma(x):\n",
    "    return torch.sigmoid(x)\n",
    "def sigma_prime(x):\n",
    "    return sigma(x)*(1-sigma(x))\n",
    "\n",
    "\n",
    "torch.manual_seed(0)\n",
    "L = 6\n",
    "X_data = torch.rand(4, 1)\n",
    "Y_data = torch.rand(1, 1)\n",
    "\n",
    "A_list,b_list = [],[]\n",
    "for _ in range(L-1):\n",
    "    A_list.append(torch.rand(4, 4))\n",
    "    b_list.append(torch.rand(4, 1))\n",
    "A_list.append(torch.rand(1, 4))\n",
    "b_list.append(torch.rand(1, 1))"
   ]
  },
  {
   "cell_type": "markdown",
   "metadata": {},
   "source": [
    "## Autograd"
   ]
  },
  {
   "cell_type": "markdown",
   "metadata": {},
   "source": [
    "### Option 1: directly use PyTorch's autograd feature"
   ]
  },
  {
   "cell_type": "code",
   "execution_count": 3,
   "metadata": {
    "ExecuteTime": {
     "end_time": "2024-04-08T02:32:04.922932Z",
     "start_time": "2024-04-08T02:32:04.867893Z"
    }
   },
   "outputs": [
    {
     "name": "stdout",
     "output_type": "stream",
     "text": [
      "tensor([[2.3943e-05, 3.7064e-05, 4.2687e-06, 6.3700e-06],\n",
      "        [3.4104e-05, 5.2794e-05, 6.0804e-06, 9.0735e-06],\n",
      "        [2.4438e-05, 3.7831e-05, 4.3571e-06, 6.5019e-06],\n",
      "        [2.0187e-05, 3.1250e-05, 3.5991e-06, 5.3707e-06]])\n"
     ]
    }
   ],
   "source": [
    "for A in A_list:\n",
    "    A.requires_grad = True\n",
    "for b in b_list:\n",
    "    b.requires_grad = True\n",
    "    \n",
    "y = X_data\n",
    "for ell in range(L):\n",
    "    S = sigma if ell<L-1 else lambda x: x\n",
    "    y = S(A_list[ell]@y+b_list[ell])\n",
    "    \n",
    "# backward pass in pytorch\n",
    "loss = torch.square(y-Y_data)/2\n",
    "loss.backward()\n",
    "\n",
    "print(A_list[0].grad)"
   ]
  },
  {
   "cell_type": "markdown",
   "metadata": {},
   "source": [
    "### Option 2: construct a NN model and use backprop"
   ]
  },
  {
   "cell_type": "code",
   "execution_count": 4,
   "metadata": {
    "ExecuteTime": {
     "end_time": "2024-04-08T02:32:05.807871Z",
     "start_time": "2024-04-08T02:32:05.791693Z"
    }
   },
   "outputs": [
    {
     "name": "stdout",
     "output_type": "stream",
     "text": [
      "tensor([[2.3943e-05, 3.7064e-05, 4.2687e-06, 6.3700e-06],\n",
      "        [3.4104e-05, 5.2794e-05, 6.0804e-06, 9.0735e-06],\n",
      "        [2.4438e-05, 3.7831e-05, 4.3571e-06, 6.5019e-06],\n",
      "        [2.0187e-05, 3.1250e-05, 3.5991e-06, 5.3707e-06]])\n"
     ]
    }
   ],
   "source": [
    "from torch import nn\n",
    "\n",
    "class MLP(nn.Module) :\n",
    "    def __init__(self) :\n",
    "        super().__init__()\n",
    "        self.linear = nn.ModuleList([nn.Linear(4,4) for _ in range(L-1)])\n",
    "        self.linear.append(nn.Linear(4,1))\n",
    "        for ell in range(L):\n",
    "            self.linear[ell].weight.data = A_list[ell]\n",
    "            self.linear[ell].bias.data = b_list[ell].squeeze()\n",
    "        \n",
    "    def forward(self, x) :\n",
    "        x = x.squeeze()\n",
    "        for ell in range(L-1):\n",
    "            x = sigma(self.linear[ell](x))\n",
    "        x = self.linear[-1](x)\n",
    "        return x\n",
    "\n",
    "model = MLP()\n",
    "            \n",
    "loss = torch.square(model(X_data)-Y_data)/2\n",
    "loss.backward()\n",
    "\n",
    "print(model.linear[0].weight.grad)"
   ]
  },
  {
   "cell_type": "markdown",
   "metadata": {},
   "source": [
    "### Option 3: implement backprop yourself"
   ]
  },
  {
   "cell_type": "code",
   "execution_count": 1,
   "metadata": {
    "ExecuteTime": {
     "end_time": "2024-04-08T07:24:19.097385Z",
     "start_time": "2024-04-08T07:24:19.084173Z"
    }
   },
   "outputs": [
    {
     "name": "stderr",
     "output_type": "stream",
     "text": [
      "\n",
      "KeyboardInterrupt\n",
      "\n"
     ]
    }
   ],
   "source": [
    "# forward pass\n",
    "y_list = [X_data]\n",
    "y = X_data\n",
    "for ell in range(L):\n",
    "    S = sigma if ell<L-1 else lambda x: x\n",
    "    y = S(A_list[ell]@y+b_list[ell])\n",
    "    y_list.append(y)\n",
    "\n",
    "# backward pass\n",
    "dA_list = []\n",
    "db_list = []\n",
    "dy = y-Y_data  # dloss/dy_L\n",
    "for ell in reversed(range(L)):  # ell = L-1, L-2, ..., 1, 0\n",
    "    S = sigma_prime if ell<L-1 else lambda x: torch.ones(x.shape)\n",
    "    A, b, y = A_list[ell], b_list[ell], y_list[ell]\n",
    "    # NB: y=y_{ell-1} (while A=A_ell and b=b_ell) since len(y_list)==L+1 and y_0=x_data\n",
    "    # hence first y value is y_{L-1} alongside A_L and b_L (even though these are all indexed with ell=L-1)\n",
    "    \n",
    "    S_diagonal = torch.diag(S(A @ y + b).reshape(-1))\n",
    "\n",
    "    db = dy @ S_diagonal          # dloss/db_ell\n",
    "    dA = S_diagonal @ dy.T @ y.T  # dloss/dA_ell\n",
    "    dy = dy @ S_diagonal @ A      # dloss/dy_{ell-1}\n",
    "\n",
    "    # model solutions (more compressed)\n",
    "    # db = dy@torch.diag(S(A@y+b).squeeze(1))\n",
    "# OR  db = dy*S(A@y+b).T\n",
    "    #\n",
    "    # dA = db.T@y.T\n",
    "    # dy = db@A\n",
    "\n",
    "    dA_list.insert(0, dA)\n",
    "    db_list.insert(0, db)\n",
    "\n",
    "print(dA_list[0])"
   ]
  },
  {
   "cell_type": "markdown",
   "metadata": {},
   "source": [
    "## Compare results"
   ]
  },
  {
   "cell_type": "code",
   "execution_count": 16,
   "metadata": {
    "ExecuteTime": {
     "end_time": "2024-04-08T07:26:15.306684Z",
     "start_time": "2024-04-08T07:26:15.296219Z"
    }
   },
   "outputs": [
    {
     "data": {
      "text/plain": [
       "(tensor([[2.3943e-05, 3.7064e-05, 4.2687e-06, 6.3700e-06],\n",
       "         [3.4104e-05, 5.2794e-05, 6.0804e-06, 9.0735e-06],\n",
       "         [2.4438e-05, 3.7831e-05, 4.3571e-06, 6.5019e-06],\n",
       "         [2.0187e-05, 3.1250e-05, 3.5991e-06, 5.3707e-06]]),\n",
       " tensor([[2.3943e-05, 3.7064e-05, 4.2687e-06, 6.3700e-06],\n",
       "         [3.4104e-05, 5.2794e-05, 6.0804e-06, 9.0735e-06],\n",
       "         [2.4438e-05, 3.7831e-05, 4.3571e-06, 6.5019e-06],\n",
       "         [2.0187e-05, 3.1250e-05, 3.5991e-06, 5.3707e-06]]),\n",
       " tensor([[2.3943e-05, 3.7064e-05, 4.2687e-06, 6.3700e-06],\n",
       "         [3.4104e-05, 5.2794e-05, 6.0804e-06, 9.0735e-06],\n",
       "         [2.4438e-05, 3.7831e-05, 4.3571e-06, 6.5019e-06],\n",
       "         [2.0187e-05, 3.1250e-05, 3.5991e-06, 5.3707e-06]],\n",
       "        grad_fn=<MmBackward0>))"
      ]
     },
     "execution_count": 16,
     "metadata": {},
     "output_type": "execute_result"
    }
   ],
   "source": [
    "A_list[0].grad, model.linear[0].weight.grad, dA_list[0]"
   ]
  },
  {
   "cell_type": "markdown",
   "metadata": {
    "collapsed": false
   },
   "source": [
    "# Problem 6"
   ]
  },
  {
   "cell_type": "markdown",
   "metadata": {
    "collapsed": false
   },
   "source": [
    "## Data prep"
   ]
  },
  {
   "cell_type": "code",
   "execution_count": 88,
   "metadata": {
    "ExecuteTime": {
     "end_time": "2024-04-05T16:27:11.036422Z",
     "start_time": "2024-04-05T16:27:10.986314Z"
    },
    "collapsed": false
   },
   "outputs": [],
   "source": [
    "import torch\n",
    "import torch.nn as nn\n",
    "from torchvision import datasets\n",
    "from torchvision.transforms import transforms\n",
    "from torch.utils.data import DataLoader\n",
    "\n",
    "# Make sure to use only 10% of the available MNIST data.\n",
    "# Otherwise, experiment will take quite long (around 90 minutes).\n",
    "\n",
    "MNIST_DATA_PATH = '../../Lectures Slides {MFDNN}/Notebooks {MFDNN}/mnist_data'\n",
    "# MNIST training data\n",
    "full_set = datasets.MNIST(root=MNIST_DATA_PATH, train=True, transform=transforms.ToTensor(), download=True)\n",
    "\n",
    "# only use first 10% of the data, subset of 6000 images\n",
    "train_set = torch.utils.data.Subset(full_set, range(len(full_set)//10))\n",
    "# randomise the labels\n",
    "for i in range(len(train_set)):\n",
    "    train_set.dataset.targets[train_set.indices[i]] = torch.randint(0, 10, (1,)).item()\n",
    "    \n",
    "# alternative method\n",
    "# # Randomly Select 1/10 Samples\n",
    "# total_data_num = len(dataset)\n",
    "# sub_data_ind = torch.randperm(total_data_num)\n",
    "# sub_data_ind = sub_data_ind[:total_data_num // 10]\n",
    "# dataset.data = dataset.data[sub_data_ind]\n",
    "# \n",
    "# # Create Random Label\n",
    "# random_label = torch.randint(0, 10, size=(len(dataset.data),))\n",
    "# dataset.targets = random_label"
   ]
  },
  {
   "cell_type": "markdown",
   "metadata": {
    "collapsed": false
   },
   "source": [
    "## Model setup (given)"
   ]
  },
  {
   "cell_type": "code",
   "execution_count": 83,
   "metadata": {
    "ExecuteTime": {
     "end_time": "2024-04-05T16:01:47.100145Z",
     "start_time": "2024-04-05T16:01:47.092843Z"
    },
    "collapsed": false
   },
   "outputs": [],
   "source": [
    "# (Modified version of AlexNet)\n",
    "class AlexNet(nn.Module):\n",
    "    def __init__(self, num_class=10):\n",
    "        super(AlexNet, self).__init__()\n",
    "\n",
    "        self.conv_layer1 = nn.Sequential(\n",
    "            nn.Conv2d(1, 96, kernel_size=4),\n",
    "            nn.ReLU(inplace=True),\n",
    "            nn.Conv2d(96, 96, kernel_size=3),\n",
    "            nn.ReLU(inplace=True)\n",
    "        )\n",
    "        self.conv_layer2 = nn.Sequential(\n",
    "            nn.Conv2d(96, 256, kernel_size=5, padding=2),\n",
    "            nn.ReLU(inplace=True),\n",
    "            nn.MaxPool2d(kernel_size=3, stride=2)\n",
    "        )\n",
    "        self.conv_layer3 = nn.Sequential(\n",
    "            nn.Conv2d(256, 384, kernel_size=3, padding=1),\n",
    "            nn.ReLU(inplace=True),\n",
    "            nn.Conv2d(384, 384, kernel_size=3, padding=1),\n",
    "            nn.ReLU(inplace=True),\n",
    "            nn.Conv2d(384, 256, kernel_size=3, padding=1),\n",
    "            nn.ReLU(inplace=True),\n",
    "            nn.MaxPool2d(kernel_size=3, stride=2)\n",
    "        )\n",
    "\n",
    "        self.fc_layer1 = nn.Sequential(\n",
    "            nn.Dropout(),\n",
    "            nn.Linear(6400, 800),\n",
    "            nn.ReLU(inplace=True),\n",
    "            nn.Linear(800, 10)\n",
    "        )\n",
    "\n",
    "    def forward(self, x):\n",
    "        output = self.conv_layer1(x)\n",
    "        output = self.conv_layer2(output)\n",
    "        output = self.conv_layer3(output)\n",
    "        output = torch.flatten(output, 1)\n",
    "        output = self.fc_layer1(output)\n",
    "        return output"
   ]
  },
  {
   "cell_type": "code",
   "execution_count": 92,
   "metadata": {
    "ExecuteTime": {
     "end_time": "2024-04-05T16:28:24.976298Z",
     "start_time": "2024-04-05T16:28:24.804187Z"
    },
    "collapsed": false
   },
   "outputs": [],
   "source": [
    "learning_rate = 0.1\n",
    "batch_size = 64\n",
    "epochs = 150\n",
    "\n",
    "device = torch.device(\"cuda\" if torch.cuda.is_available() else \"cpu\")\n",
    "device = torch.device(\"mps\" if torch.backends.mps.is_available() else \"cpu\")\n",
    "\n",
    "model = AlexNet().to(device)\n",
    "loss_function = torch.nn.CrossEntropyLoss()\n",
    "optimizer = torch.optim.SGD(model.parameters(), lr=learning_rate)\n",
    "\n",
    "train_loader = DataLoader(dataset=train_set, batch_size=64, shuffle=True)"
   ]
  },
  {
   "cell_type": "markdown",
   "metadata": {
    "collapsed": false
   },
   "source": [
    "## Training (and stats)"
   ]
  },
  {
   "cell_type": "code",
   "execution_count": 85,
   "metadata": {
    "ExecuteTime": {
     "end_time": "2024-04-05T16:25:31.292261Z",
     "start_time": "2024-04-05T16:01:57.900942Z"
    },
    "collapsed": false
   },
   "outputs": [
    {
     "name": "stdout",
     "output_type": "stream",
     "text": [
      "Epoch   1/150\n",
      "Loss: 2.3028, Accuracy: 0.1042\n",
      "Epoch   2/150\n",
      "Loss: 2.3022, Accuracy: 0.1068\n",
      "Epoch   3/150\n",
      "Loss: 2.3023, Accuracy: 0.1073\n",
      "Epoch   4/150\n",
      "Loss: 2.3022, Accuracy: 0.1052\n",
      "Epoch   5/150\n",
      "Loss: 2.3023, Accuracy: 0.1085\n",
      "Epoch   6/150\n",
      "Loss: 2.3022, Accuracy: 0.1085\n",
      "Epoch   7/150\n",
      "Loss: 2.3022, Accuracy: 0.1083\n",
      "Epoch   8/150\n",
      "Loss: 2.3023, Accuracy: 0.1060\n",
      "Epoch   9/150\n",
      "Loss: 2.3023, Accuracy: 0.1087\n",
      "Epoch  10/150\n",
      "Loss: 2.3022, Accuracy: 0.1085\n",
      "Epoch  11/150\n",
      "Loss: 2.3022, Accuracy: 0.1072\n",
      "Epoch  12/150\n",
      "Loss: 2.3021, Accuracy: 0.1072\n",
      "Epoch  13/150\n",
      "Loss: 2.3022, Accuracy: 0.1083\n",
      "Epoch  14/150\n",
      "Loss: 2.3023, Accuracy: 0.1085\n",
      "Epoch  15/150\n",
      "Loss: 2.3022, Accuracy: 0.1085\n",
      "Epoch  16/150\n",
      "Loss: 2.3021, Accuracy: 0.1085\n",
      "Epoch  17/150\n",
      "Loss: 2.3022, Accuracy: 0.1037\n",
      "Epoch  18/150\n",
      "Loss: 2.3022, Accuracy: 0.1075\n",
      "Epoch  19/150\n",
      "Loss: 2.3020, Accuracy: 0.1085\n",
      "Epoch  20/150\n",
      "Loss: 2.3022, Accuracy: 0.1057\n",
      "Epoch  21/150\n",
      "Loss: 2.3022, Accuracy: 0.1085\n",
      "Epoch  22/150\n",
      "Loss: 2.3022, Accuracy: 0.1085\n",
      "Epoch  23/150\n",
      "Loss: 2.3022, Accuracy: 0.1085\n",
      "Epoch  24/150\n",
      "Loss: 2.3021, Accuracy: 0.1068\n",
      "Epoch  25/150\n",
      "Loss: 2.3021, Accuracy: 0.1085\n",
      "Epoch  26/150\n",
      "Loss: 2.3022, Accuracy: 0.1058\n",
      "Epoch  27/150\n",
      "Loss: 2.3021, Accuracy: 0.1078\n",
      "Epoch  28/150\n",
      "Loss: 2.3020, Accuracy: 0.1085\n",
      "Epoch  29/150\n",
      "Loss: 2.3021, Accuracy: 0.1085\n",
      "Epoch  30/150\n",
      "Loss: 2.3020, Accuracy: 0.1090\n",
      "Epoch  31/150\n",
      "Loss: 2.3022, Accuracy: 0.1085\n",
      "Epoch  32/150\n",
      "Loss: 2.3021, Accuracy: 0.1088\n",
      "Epoch  33/150\n",
      "Loss: 2.3020, Accuracy: 0.1083\n",
      "Epoch  34/150\n",
      "Loss: 2.3021, Accuracy: 0.1037\n",
      "Epoch  35/150\n",
      "Loss: 2.3020, Accuracy: 0.1085\n",
      "Epoch  36/150\n",
      "Loss: 2.3019, Accuracy: 0.1068\n",
      "Epoch  37/150\n",
      "Loss: 2.3020, Accuracy: 0.1078\n",
      "Epoch  38/150\n",
      "Loss: 2.3020, Accuracy: 0.1082\n",
      "Epoch  39/150\n",
      "Loss: 2.3018, Accuracy: 0.1065\n",
      "Epoch  40/150\n",
      "Loss: 2.3018, Accuracy: 0.1087\n",
      "Epoch  41/150\n",
      "Loss: 2.3019, Accuracy: 0.1067\n",
      "Epoch  42/150\n",
      "Loss: 2.3018, Accuracy: 0.1088\n",
      "Epoch  43/150\n",
      "Loss: 2.3018, Accuracy: 0.1063\n",
      "Epoch  44/150\n",
      "Loss: 2.3016, Accuracy: 0.1102\n",
      "Epoch  45/150\n",
      "Loss: 2.3016, Accuracy: 0.1082\n",
      "Epoch  46/150\n",
      "Loss: 2.3016, Accuracy: 0.1075\n",
      "Epoch  47/150\n",
      "Loss: 2.3014, Accuracy: 0.1057\n",
      "Epoch  48/150\n",
      "Loss: 2.3014, Accuracy: 0.1087\n",
      "Epoch  49/150\n",
      "Loss: 2.3012, Accuracy: 0.1070\n",
      "Epoch  50/150\n",
      "Loss: 2.3006, Accuracy: 0.1092\n",
      "Epoch  51/150\n",
      "Loss: 2.3006, Accuracy: 0.1120\n",
      "Epoch  52/150\n",
      "Loss: 2.3006, Accuracy: 0.1057\n",
      "Epoch  53/150\n",
      "Loss: 2.3001, Accuracy: 0.1055\n",
      "Epoch  54/150\n",
      "Loss: 2.2997, Accuracy: 0.1140\n",
      "Epoch  55/150\n",
      "Loss: 2.2995, Accuracy: 0.1113\n",
      "Epoch  56/150\n",
      "Loss: 2.2989, Accuracy: 0.1153\n",
      "Epoch  57/150\n",
      "Loss: 2.2990, Accuracy: 0.1160\n",
      "Epoch  58/150\n",
      "Loss: 2.2984, Accuracy: 0.1180\n",
      "Epoch  59/150\n",
      "Loss: 2.2978, Accuracy: 0.1188\n",
      "Epoch  60/150\n",
      "Loss: 2.2967, Accuracy: 0.1152\n",
      "Epoch  61/150\n",
      "Loss: 2.2952, Accuracy: 0.1178\n",
      "Epoch  62/150\n",
      "Loss: 2.2959, Accuracy: 0.1208\n",
      "Epoch  63/150\n",
      "Loss: 2.2947, Accuracy: 0.1157\n",
      "Epoch  64/150\n",
      "Loss: 2.2944, Accuracy: 0.1140\n",
      "Epoch  65/150\n",
      "Loss: 2.2932, Accuracy: 0.1160\n",
      "Epoch  66/150\n",
      "Loss: 2.2918, Accuracy: 0.1187\n",
      "Epoch  67/150\n",
      "Loss: 2.2904, Accuracy: 0.1180\n",
      "Epoch  68/150\n",
      "Loss: 2.2893, Accuracy: 0.1233\n",
      "Epoch  69/150\n",
      "Loss: 2.2872, Accuracy: 0.1278\n",
      "Epoch  70/150\n",
      "Loss: 2.2860, Accuracy: 0.1198\n",
      "Epoch  71/150\n",
      "Loss: 2.2823, Accuracy: 0.1303\n",
      "Epoch  72/150\n",
      "Loss: 2.2812, Accuracy: 0.1298\n",
      "Epoch  73/150\n",
      "Loss: 2.2799, Accuracy: 0.1322\n",
      "Epoch  74/150\n",
      "Loss: 2.2790, Accuracy: 0.1357\n",
      "Epoch  75/150\n",
      "Loss: 2.2712, Accuracy: 0.1397\n",
      "Epoch  76/150\n",
      "Loss: 2.2690, Accuracy: 0.1425\n",
      "Epoch  77/150\n",
      "Loss: 2.2631, Accuracy: 0.1473\n",
      "Epoch  78/150\n",
      "Loss: 2.2573, Accuracy: 0.1522\n",
      "Epoch  79/150\n",
      "Loss: 2.2539, Accuracy: 0.1448\n",
      "Epoch  80/150\n",
      "Loss: 2.2488, Accuracy: 0.1580\n",
      "Epoch  81/150\n",
      "Loss: 2.2413, Accuracy: 0.1627\n",
      "Epoch  82/150\n",
      "Loss: 2.2276, Accuracy: 0.1687\n",
      "Epoch  83/150\n",
      "Loss: 2.2221, Accuracy: 0.1657\n",
      "Epoch  84/150\n",
      "Loss: 2.2066, Accuracy: 0.1847\n",
      "Epoch  85/150\n",
      "Loss: 2.1900, Accuracy: 0.1932\n",
      "Epoch  86/150\n",
      "Loss: 2.1717, Accuracy: 0.2072\n",
      "Epoch  87/150\n",
      "Loss: 2.1544, Accuracy: 0.2175\n",
      "Epoch  88/150\n",
      "Loss: 2.1306, Accuracy: 0.2195\n",
      "Epoch  89/150\n",
      "Loss: 2.1005, Accuracy: 0.2347\n",
      "Epoch  90/150\n",
      "Loss: 2.0631, Accuracy: 0.2533\n",
      "Epoch  91/150\n",
      "Loss: 2.0208, Accuracy: 0.2715\n",
      "Epoch  92/150\n",
      "Loss: 1.9706, Accuracy: 0.2887\n",
      "Epoch  93/150\n",
      "Loss: 1.9199, Accuracy: 0.3137\n",
      "Epoch  94/150\n",
      "Loss: 1.8446, Accuracy: 0.3410\n",
      "Epoch  95/150\n",
      "Loss: 1.7694, Accuracy: 0.3715\n",
      "Epoch  96/150\n",
      "Loss: 1.6922, Accuracy: 0.4068\n",
      "Epoch  97/150\n",
      "Loss: 1.5902, Accuracy: 0.4410\n",
      "Epoch  98/150\n",
      "Loss: 1.4905, Accuracy: 0.4738\n",
      "Epoch  99/150\n",
      "Loss: 1.4161, Accuracy: 0.5092\n",
      "Epoch 100/150\n",
      "Loss: 1.2817, Accuracy: 0.5610\n",
      "Epoch 101/150\n",
      "Loss: 1.1700, Accuracy: 0.5903\n",
      "Epoch 102/150\n",
      "Loss: 1.0667, Accuracy: 0.6338\n",
      "Epoch 103/150\n",
      "Loss: 0.9425, Accuracy: 0.6812\n",
      "Epoch 104/150\n",
      "Loss: 0.8927, Accuracy: 0.6977\n",
      "Epoch 105/150\n",
      "Loss: 0.8322, Accuracy: 0.7163\n",
      "Epoch 106/150\n",
      "Loss: 0.7249, Accuracy: 0.7513\n",
      "Epoch 107/150\n",
      "Loss: 0.6372, Accuracy: 0.7882\n",
      "Epoch 108/150\n",
      "Loss: 0.5951, Accuracy: 0.8050\n",
      "Epoch 109/150\n",
      "Loss: 0.5318, Accuracy: 0.8195\n",
      "Epoch 110/150\n",
      "Loss: 0.5168, Accuracy: 0.8242\n",
      "Epoch 111/150\n",
      "Loss: 0.4177, Accuracy: 0.8595\n",
      "Epoch 112/150\n",
      "Loss: 0.3928, Accuracy: 0.8695\n",
      "Epoch 113/150\n",
      "Loss: 0.3664, Accuracy: 0.8800\n",
      "Epoch 114/150\n",
      "Loss: 0.3115, Accuracy: 0.8983\n",
      "Epoch 115/150\n",
      "Loss: 0.3000, Accuracy: 0.8983\n",
      "Epoch 116/150\n",
      "Loss: 0.2980, Accuracy: 0.9028\n",
      "Epoch 117/150\n",
      "Loss: 0.2732, Accuracy: 0.9098\n",
      "Epoch 118/150\n",
      "Loss: 0.2461, Accuracy: 0.9157\n",
      "Epoch 119/150\n",
      "Loss: 0.2372, Accuracy: 0.9190\n",
      "Epoch 120/150\n",
      "Loss: 0.2044, Accuracy: 0.9353\n",
      "Epoch 121/150\n",
      "Loss: 0.2130, Accuracy: 0.9310\n",
      "Epoch 122/150\n",
      "Loss: 0.1996, Accuracy: 0.9340\n",
      "Epoch 123/150\n",
      "Loss: 0.1821, Accuracy: 0.9423\n",
      "Epoch 124/150\n",
      "Loss: 0.1823, Accuracy: 0.9383\n",
      "Epoch 125/150\n",
      "Loss: 0.1571, Accuracy: 0.9482\n",
      "Epoch 126/150\n",
      "Loss: 0.1424, Accuracy: 0.9532\n",
      "Epoch 127/150\n",
      "Loss: 0.1335, Accuracy: 0.9603\n",
      "Epoch 128/150\n",
      "Loss: 0.1549, Accuracy: 0.9487\n",
      "Epoch 129/150\n",
      "Loss: 0.1131, Accuracy: 0.9623\n",
      "Epoch 130/150\n",
      "Loss: 0.1205, Accuracy: 0.9628\n",
      "Epoch 131/150\n",
      "Loss: 0.1075, Accuracy: 0.9675\n",
      "Epoch 132/150\n",
      "Loss: 0.1183, Accuracy: 0.9677\n",
      "Epoch 133/150\n",
      "Loss: 0.1098, Accuracy: 0.9630\n",
      "Epoch 134/150\n",
      "Loss: 0.0990, Accuracy: 0.9692\n",
      "Epoch 135/150\n",
      "Loss: 0.0910, Accuracy: 0.9700\n",
      "Epoch 136/150\n",
      "Loss: 0.0889, Accuracy: 0.9715\n",
      "Epoch 137/150\n",
      "Loss: 0.0870, Accuracy: 0.9703\n",
      "Epoch 138/150\n",
      "Loss: 0.1006, Accuracy: 0.9643\n",
      "Epoch 139/150\n",
      "Loss: 0.0806, Accuracy: 0.9737\n",
      "Epoch 140/150\n",
      "Loss: 0.0678, Accuracy: 0.9798\n",
      "Epoch 141/150\n",
      "Loss: 0.0693, Accuracy: 0.9778\n",
      "Epoch 142/150\n",
      "Loss: 0.0775, Accuracy: 0.9755\n",
      "Epoch 143/150\n",
      "Loss: 0.0772, Accuracy: 0.9727\n",
      "Epoch 144/150\n",
      "Loss: 0.0828, Accuracy: 0.9755\n",
      "Epoch 145/150\n",
      "Loss: 0.0570, Accuracy: 0.9793\n",
      "Epoch 146/150\n",
      "Loss: 0.0768, Accuracy: 0.9742\n",
      "Epoch 147/150\n",
      "Loss: 0.0554, Accuracy: 0.9833\n",
      "Epoch 148/150\n",
      "Loss: 0.0632, Accuracy: 0.9815\n",
      "Epoch 149/150\n",
      "Loss: 0.0519, Accuracy: 0.9842\n",
      "Epoch 150/150\n",
      "Loss: 0.0469, Accuracy: 0.9837\n",
      "Total training time: 1413.3870449066162\n"
     ]
    }
   ],
   "source": [
    "tick = time.time()\n",
    "training_performance_data = []\n",
    "for epoch in range(epochs):\n",
    "    print(f\"Epoch {epoch + 1:>3}/{epochs}\")\n",
    "    train_loss, correct = 0, 0\n",
    "    for images, labels in train_loader:\n",
    "        images, labels = images.to(device), labels.to(device)\n",
    "\n",
    "        optimizer.zero_grad()\n",
    "        output = model(images)\n",
    "        loss = loss_function(output, labels)\n",
    "        train_loss += loss.item()\n",
    "        correct += torch.eq(torch.argmax(output, dim=1), labels).sum().item()\n",
    "        loss.backward()\n",
    "\n",
    "        optimizer.step()\n",
    "    training_performance_data.append((train_loss/len(train_loader),  # loss added to train_loss variable is mean loss\n",
    "                                      correct/len(train_set)))       # accuracy added to correct variable is total num\n",
    "    print(f\"Loss: {training_performance_data[-1][0]:.4f}, Accuracy: {training_performance_data[-1][1]:.4f}\")\n",
    "tock = time.time()\n",
    "print(f\"Total training time: {tock - tick}\")"
   ]
  },
  {
   "cell_type": "markdown",
   "metadata": {
    "collapsed": false
   },
   "source": [
    "## Plotting"
   ]
  },
  {
   "cell_type": "code",
   "execution_count": 93,
   "metadata": {
    "ExecuteTime": {
     "end_time": "2024-04-05T16:28:29.444706Z",
     "start_time": "2024-04-05T16:28:29.232062Z"
    },
    "collapsed": false
   },
   "outputs": [
    {
     "data": {
      "image/png": "[encoded data removed]",
      "text/plain": [
       "<Figure size 640x480 with 2 Axes>"
      ]
     },
     "metadata": {},
     "output_type": "display_data"
    }
   ],
   "source": [
    "import matplotlib.pyplot as plt\n",
    "\n",
    "# Sample data\n",
    "epoch_range = range(1, epochs+1)  # 150 epochs\n",
    "train_loss = [x[0] for x in training_performance_data]\n",
    "train_accuracy = [x[1] for x in training_performance_data]\n",
    "\n",
    "fig, ax1 = plt.subplots()\n",
    "\n",
    "# Plotting training accuracy on the primary y-axis\n",
    "color = 'r'\n",
    "ax1.set_xlabel('Epochs')\n",
    "ax1.set_ylabel('Train Accuracy', color=color)\n",
    "ax1.plot(epoch_range, train_accuracy, color=color)\n",
    "ax1.tick_params(axis='y', labelcolor=color)\n",
    "\n",
    "# Creating a second y-axis for the training loss\n",
    "ax2 = ax1.twinx()\n",
    "color = 'b'\n",
    "ax2.set_ylabel('Train Loss', color=color)\n",
    "ax2.plot(epoch_range, train_loss, color=color)\n",
    "ax2.tick_params(axis='y', labelcolor=color)\n",
    "\n",
    "# Adding title and a tight layout\n",
    "fig.suptitle('Training with Randomised Label')\n",
    "fig.tight_layout()\n",
    "\n",
    "# Show the plot\n",
    "plt.show()"
   ]
  }
 ],
 "metadata": {
  "kernelspec": {
   "display_name": "MFDNN",
   "language": "python",
   "name": "python3"
  },
  "language_info": {
   "codemirror_mode": {
    "name": "ipython",
    "version": 3
   },
   "file_extension": ".py",
   "mimetype": "text/x-python",
   "name": "python",
   "nbconvert_exporter": "python",
   "pygments_lexer": "ipython3",
   "version": "3.11.8"
  }
 },
 "nbformat": 4,
 "nbformat_minor": 2
}
