{
 "cells": [
  {
   "cell_type": "markdown",
   "id": "6f537430",
   "metadata": {},
   "source": [
    "## Problem 2 workings"
   ]
  },
  {
   "cell_type": "code",
   "execution_count": 1,
   "id": "initial_id",
   "metadata": {
    "ExecuteTime": {
     "end_time": "2024-05-02T06:07:01.328320Z",
     "start_time": "2024-05-02T06:07:00.164331Z"
    },
    "collapsed": true
   },
   "outputs": [],
   "source": [
    "import torch\n",
    "\n",
    "def trans_conv(Y, w, b):\n",
    "    c_in, c_out , f1, f2 = w.shape\n",
    "    batch, c_in, m, n = Y.shape\n",
    "    X = torch.zeros(batch, c_out, m+f1-1, n+f2-1)\n",
    "    for k in range(c_in):\n",
    "        for i in range(Y.shape[2]):\n",
    "            for j in range(Y.shape[3]):\n",
    "                X[:,:,i:i+f1,j:j+f2] += Y[:,k,i,j].view(-1,1,1,1)*w[k, :, :, :].unsqueeze(0)\n",
    "    return X + b.view(1,-1,1,1)"
   ]
  },
  {
   "cell_type": "code",
   "execution_count": 2,
   "id": "d02adb9a441b3103",
   "metadata": {
    "ExecuteTime": {
     "end_time": "2024-05-02T06:27:30.047573Z",
     "start_time": "2024-05-02T06:27:30.042595Z"
    }
   },
   "outputs": [],
   "source": [
    "in_channels = 2"
   ]
  },
  {
   "cell_type": "code",
   "execution_count": 3,
   "id": "c8482ad567a003d8",
   "metadata": {
    "ExecuteTime": {
     "end_time": "2024-05-02T06:27:45.402827Z",
     "start_time": "2024-05-02T06:27:45.399437Z"
    }
   },
   "outputs": [
    {
     "data": {
      "text/plain": [
       "tensor([[[[1., 2.],\n",
       "          [3., 4.]],\n",
       "\n",
       "         [[5., 6.],\n",
       "          [7., 8.]]]])"
      ]
     },
     "execution_count": 3,
     "metadata": {},
     "output_type": "execute_result"
    }
   ],
   "source": [
    "input = torch.arange(1, in_channels**3+1, dtype=torch. float32).view(1, in_channels, in_channels, in_channels)\n",
    "input"
   ]
  },
  {
   "cell_type": "code",
   "execution_count": 4,
   "id": "6db66ec51e679830",
   "metadata": {
    "ExecuteTime": {
     "end_time": "2024-05-02T06:27:47.834890Z",
     "start_time": "2024-05-02T06:27:47.831066Z"
    }
   },
   "outputs": [],
   "source": [
    "from torch import nn\n",
    "\n",
    "r = 3\n",
    "layer_up = nn.Upsample(scale_factor=r, mode='nearest')"
   ]
  },
  {
   "cell_type": "code",
   "execution_count": 5,
   "id": "d2c239535b37faee",
   "metadata": {
    "ExecuteTime": {
     "end_time": "2024-05-02T06:27:48.764996Z",
     "start_time": "2024-05-02T06:27:48.759467Z"
    }
   },
   "outputs": [
    {
     "data": {
      "text/plain": [
       "tensor([[[[1., 1., 1., 2., 2., 2.],\n",
       "          [1., 1., 1., 2., 2., 2.],\n",
       "          [1., 1., 1., 2., 2., 2.],\n",
       "          [3., 3., 3., 4., 4., 4.],\n",
       "          [3., 3., 3., 4., 4., 4.],\n",
       "          [3., 3., 3., 4., 4., 4.]],\n",
       "\n",
       "         [[5., 5., 5., 6., 6., 6.],\n",
       "          [5., 5., 5., 6., 6., 6.],\n",
       "          [5., 5., 5., 6., 6., 6.],\n",
       "          [7., 7., 7., 8., 8., 8.],\n",
       "          [7., 7., 7., 8., 8., 8.],\n",
       "          [7., 7., 7., 8., 8., 8.]]]])"
      ]
     },
     "execution_count": 5,
     "metadata": {},
     "output_type": "execute_result"
    }
   ],
   "source": [
    "layer_up(input)"
   ]
  },
  {
   "cell_type": "code",
   "execution_count": 6,
   "id": "fada22ed2d9652db",
   "metadata": {
    "ExecuteTime": {
     "end_time": "2024-05-02T06:36:02.057702Z",
     "start_time": "2024-05-02T06:36:02.052262Z"
    }
   },
   "outputs": [
    {
     "data": {
      "text/plain": [
       "tensor([[[[1., 1., 1., 2., 2., 2.],\n",
       "          [1., 1., 1., 2., 2., 2.],\n",
       "          [1., 1., 1., 2., 2., 2.],\n",
       "          [3., 3., 3., 4., 4., 4.],\n",
       "          [3., 3., 3., 4., 4., 4.],\n",
       "          [3., 3., 3., 4., 4., 4.]],\n",
       "\n",
       "         [[5., 5., 5., 6., 6., 6.],\n",
       "          [5., 5., 5., 6., 6., 6.],\n",
       "          [5., 5., 5., 6., 6., 6.],\n",
       "          [7., 7., 7., 8., 8., 8.],\n",
       "          [7., 7., 7., 8., 8., 8.],\n",
       "          [7., 7., 7., 8., 8., 8.]]]], grad_fn=<ConvolutionBackward0>)"
      ]
     },
     "execution_count": 6,
     "metadata": {},
     "output_type": "execute_result"
    }
   ],
   "source": [
    "conv_layer = nn.ConvTranspose2d(in_channels, in_channels, r, stride=r, bias=False)\n",
    "conv_layer.weight.data = torch.zeros(size=(in_channels,in_channels,r,r))\n",
    "for i in range(in_channels):\n",
    "    for h in range(r):\n",
    "        for w in range(r):\n",
    "            conv_layer.weight.data[i, i, h, w] = 1\n",
    "\n",
    "conv_layer(input)"
   ]
  },
  {
   "cell_type": "code",
   "execution_count": 7,
   "id": "2191d83fc49a4a3a",
   "metadata": {
    "ExecuteTime": {
     "end_time": "2024-05-02T06:30:29.151389Z",
     "start_time": "2024-05-02T06:30:29.143347Z"
    }
   },
   "outputs": [
    {
     "data": {
      "text/plain": [
       "tensor([[[[1., 1., 1.],\n",
       "          [1., 1., 1.],\n",
       "          [1., 1., 1.]],\n",
       "\n",
       "         [[0., 0., 0.],\n",
       "          [0., 0., 0.],\n",
       "          [0., 0., 0.]]],\n",
       "\n",
       "\n",
       "        [[[0., 0., 0.],\n",
       "          [0., 0., 0.],\n",
       "          [0., 0., 0.]],\n",
       "\n",
       "         [[1., 1., 1.],\n",
       "          [1., 1., 1.],\n",
       "          [1., 1., 1.]]]])"
      ]
     },
     "execution_count": 7,
     "metadata": {},
     "output_type": "execute_result"
    }
   ],
   "source": [
    "conv_layer.weight.data"
   ]
  },
  {
   "cell_type": "code",
   "execution_count": 8,
   "id": "bf6a5a6f5574c217",
   "metadata": {
    "ExecuteTime": {
     "end_time": "2024-05-02T06:36:57.624538Z",
     "start_time": "2024-05-02T06:36:57.620376Z"
    }
   },
   "outputs": [
    {
     "data": {
      "text/plain": [
       "tensor([[[[1., 1., 1.],\n",
       "          [1., 1., 1.],\n",
       "          [1., 1., 1.]],\n",
       "\n",
       "         [[0., 0., 0.],\n",
       "          [0., 0., 0.],\n",
       "          [0., 0., 0.]]],\n",
       "\n",
       "\n",
       "        [[[0., 0., 0.],\n",
       "          [0., 0., 0.],\n",
       "          [0., 0., 0.]],\n",
       "\n",
       "         [[1., 1., 1.],\n",
       "          [1., 1., 1.],\n",
       "          [1., 1., 1.]]]])"
      ]
     },
     "execution_count": 8,
     "metadata": {},
     "output_type": "execute_result"
    }
   ],
   "source": [
    "torch.eye(in_channels).unsqueeze(-1).unsqueeze(-1) * torch.ones(1, 1, r, r)"
   ]
  },
  {
   "cell_type": "code",
   "execution_count": 9,
   "id": "bde8e0749ed1aa68",
   "metadata": {
    "ExecuteTime": {
     "end_time": "2024-05-02T06:37:41.266413Z",
     "start_time": "2024-05-02T06:37:41.258405Z"
    }
   },
   "outputs": [
    {
     "data": {
      "text/plain": [
       "tensor([[[[1.]],\n",
       "\n",
       "         [[0.]]],\n",
       "\n",
       "\n",
       "        [[[0.]],\n",
       "\n",
       "         [[1.]]]])"
      ]
     },
     "execution_count": 9,
     "metadata": {},
     "output_type": "execute_result"
    }
   ],
   "source": [
    "torch.eye(in_channels).unsqueeze(-1).unsqueeze(-1)"
   ]
  },
  {
   "cell_type": "code",
   "execution_count": 10,
   "id": "c23bef845812ce23",
   "metadata": {
    "ExecuteTime": {
     "end_time": "2024-05-02T06:37:53.050521Z",
     "start_time": "2024-05-02T06:37:53.047014Z"
    }
   },
   "outputs": [
    {
     "data": {
      "text/plain": [
       "tensor([[1., 0.],\n",
       "        [0., 1.]])"
      ]
     },
     "execution_count": 10,
     "metadata": {},
     "output_type": "execute_result"
    }
   ],
   "source": [
    "torch.eye(in_channels)"
   ]
  },
  {
   "cell_type": "code",
   "execution_count": 11,
   "id": "28ee2e037e677c49",
   "metadata": {
    "ExecuteTime": {
     "end_time": "2024-05-02T06:38:14.631717Z",
     "start_time": "2024-05-02T06:38:14.624135Z"
    }
   },
   "outputs": [
    {
     "data": {
      "text/plain": [
       "tensor([[[[1., 1., 1.],\n",
       "          [1., 1., 1.],\n",
       "          [1., 1., 1.]]]])"
      ]
     },
     "execution_count": 11,
     "metadata": {},
     "output_type": "execute_result"
    }
   ],
   "source": [
    "torch.ones(1, 1, r, r)"
   ]
  },
  {
   "cell_type": "code",
   "execution_count": 24,
   "id": "f3e1e41a",
   "metadata": {},
   "outputs": [
    {
     "data": {
      "text/plain": [
       "tensor([[[[1., 2.],\n",
       "          [3., 4.]]]])"
      ]
     },
     "execution_count": 24,
     "metadata": {},
     "output_type": "execute_result"
    }
   ],
   "source": [
    "input = torch.arange(1, 5, dtype=torch. float32).view(1, 1, 2, 2)\n",
    "input"
   ]
  },
  {
   "cell_type": "code",
   "execution_count": 25,
   "id": "43ece53e",
   "metadata": {},
   "outputs": [
    {
     "data": {
      "text/plain": [
       "tensor([[[[1., 1., 1., 2., 2., 2.],\n",
       "          [1., 1., 1., 2., 2., 2.],\n",
       "          [1., 1., 1., 2., 2., 2.],\n",
       "          [3., 3., 3., 4., 4., 4.],\n",
       "          [3., 3., 3., 4., 4., 4.],\n",
       "          [3., 3., 3., 4., 4., 4.]]]], grad_fn=<ConvolutionBackward0>)"
      ]
     },
     "execution_count": 25,
     "metadata": {},
     "output_type": "execute_result"
    }
   ],
   "source": [
    "layer = nn.ConvTranspose2d(1, 1, kernel_size=r, stride =r, bias = False)\n",
    "layer.weight.data = torch.ones(1,1,r,r)\n",
    "layer(input)"
   ]
  },
  {
   "cell_type": "markdown",
   "id": "eb7dc9e9",
   "metadata": {},
   "source": [
    "## Problem 6 workings"
   ]
  },
  {
   "cell_type": "code",
   "execution_count": 1,
   "id": "3da111c7",
   "metadata": {},
   "outputs": [],
   "source": [
    "def perform_permutation(l, sig):\n",
    "    output = [0 for _ in range(len(l))]\n",
    "    for i in range(len(l)):\n",
    "        output[i] = l[sig[i]]\n",
    "    return output"
   ]
  },
  {
   "cell_type": "code",
   "execution_count": 3,
   "id": "dabd4fe1d8e7014c",
   "metadata": {},
   "outputs": [
    {
     "data": {
      "text/plain": [
       "([2, 9, 6, 1, 5, 8, 3, 7, 4, 0],\n",
       " [1, 0, 6, 5, 4, 3, 2, 7, 9, 8],\n",
       " [9, 2, 3, 8, 5, 1, 6, 7, 0, 4])"
      ]
     },
     "execution_count": 3,
     "metadata": {},
     "output_type": "execute_result"
    }
   ],
   "source": [
    "import random\n",
    "base_list = [i for i in range(10)]\n",
    "random.shuffle(base_list)\n",
    "\n",
    "sigma = base_list.copy()\n",
    "random.shuffle(sigma)\n",
    "\n",
    "permuted_list = perform_permutation(base_list, sigma)\n",
    "base_list, sigma, permuted_list"
   ]
  },
  {
   "cell_type": "code",
   "execution_count": 4,
   "id": "5d7abfc9",
   "metadata": {},
   "outputs": [],
   "source": [
    "def inverse_permutation(sig):\n",
    "    output = [0 for _ in range(len(sig))]\n",
    "    pos = 0\n",
    "    for s in sig:\n",
    "        output[s] = pos\n",
    "        pos += 1\n",
    "    return output"
   ]
  },
  {
   "cell_type": "code",
   "execution_count": 5,
   "id": "444c7606",
   "metadata": {},
   "outputs": [
    {
     "data": {
      "text/plain": [
       "([9, 2, 3, 8, 5, 1, 6, 7, 0, 4],\n",
       " [1, 0, 6, 5, 4, 3, 2, 7, 9, 8],\n",
       " [2, 9, 6, 1, 5, 8, 3, 7, 4, 0])"
      ]
     },
     "execution_count": 5,
     "metadata": {},
     "output_type": "execute_result"
    }
   ],
   "source": [
    "sigma_inverse = inverse_permutation(sigma)\n",
    "permuted_list, sigma_inverse, perform_permutation(permuted_list, sigma_inverse)"
   ]
  },
  {
   "cell_type": "code",
   "execution_count": 6,
   "id": "6f15d129",
   "metadata": {},
   "outputs": [
    {
     "data": {
      "text/plain": [
       "True"
      ]
     },
     "execution_count": 6,
     "metadata": {},
     "output_type": "execute_result"
    }
   ],
   "source": [
    "perform_permutation(permuted_list, sigma_inverse) == base_list"
   ]
  },
  {
   "cell_type": "code",
   "execution_count": null,
   "id": "2ef56883",
   "metadata": {},
   "outputs": [],
   "source": []
  }
 ],
 "metadata": {
  "kernelspec": {
   "display_name": "Python 3",
   "language": "python",
   "name": "python3"
  },
  "language_info": {
   "codemirror_mode": {
    "name": "ipython",
    "version": 3
   },
   "file_extension": ".py",
   "mimetype": "text/x-python",
   "name": "python",
   "nbconvert_exporter": "python",
   "pygments_lexer": "ipython3",
   "version": "3.11.8"
  }
 },
 "nbformat": 4,
 "nbformat_minor": 5
}
