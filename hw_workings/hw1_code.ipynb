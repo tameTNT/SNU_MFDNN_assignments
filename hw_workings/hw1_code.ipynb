{
 "cells": [
  {
   "cell_type": "markdown",
   "metadata": {},
   "source": [
    "# Problem 4"
   ]
  },
  {
   "cell_type": "code",
   "execution_count": 1,
   "metadata": {},
   "outputs": [
    {
     "name": "stdout",
     "output_type": "stream",
     "text": [
      "Python version: 3.11.8 (main, Feb 26 2024, 15:36:12) [Clang 14.0.6 ]\n",
      "Numpy version: 1.26.4\n",
      "Matplotlib version: 3.8.0\n"
     ]
    }
   ],
   "source": [
    "import sys\n",
    "\n",
    "import numpy as np\n",
    "import matplotlib\n",
    "import matplotlib.pyplot as plt\n",
    "\n",
    "print(f\"Python version: {sys.version}\\nNumpy version: {np.__version__}\\nMatplotlib version: {matplotlib.__version__}\")"
   ]
  },
  {
   "cell_type": "code",
   "execution_count": 2,
   "metadata": {},
   "outputs": [
    {
     "data": {
      "image/png": "[encoded data removed]",
      "text/plain": [
       "<Figure size 640x480 with 1 Axes>"
      ]
     },
     "metadata": {},
     "output_type": "display_data"
    }
   ],
   "source": [
    "np.seterr(invalid='ignore', over='ignore')  # suppress warning caused by division by inf\n",
    "\n",
    "def f(x):\n",
    "    return 1/(1 + np.exp(3*(x-3))) * 10 * x**2  + 1 / (1 + np.exp(-3*(x-3))) * (0.5*(x-10)**2 + 50)\n",
    "\n",
    "def fprime(x):\n",
    "    return 1 / (1 + np.exp((-3)*(x-3))) * (x-10) + 1/(1 + np.exp(3*(x-3))) * 20 * x + (3* np.exp(9))/(np.exp(9-1.5*x) + np.exp(1.5*x))**2 * ((0.5*(x-10)**2 + 50) - 10 * x**2) \n",
    "\n",
    "x = np.linspace(-5,20,100)\n",
    "plt.plot(x,f(x), 'k')\n",
    "plt.show()"
   ]
  },
  {
   "cell_type": "code",
   "execution_count": 3,
   "metadata": {},
   "outputs": [],
   "source": [
    "def gradient_descent(epochs, alpha):\n",
    "    theta = np.random.uniform(x.min(), x.max())  # randomly initialises theta in [x.min(), x.max())=[-5,20)\n",
    "\n",
    "    for _ in range(epochs):  # performs GD for a given number of epochs\n",
    "        theta = theta - alpha * fprime(theta)\n",
    "    \n",
    "    return theta  # returns final theta value after GD"
   ]
  },
  {
   "cell_type": "code",
   "execution_count": 4,
   "metadata": {},
   "outputs": [],
   "source": [
    "def determine_minima(theta, tolerance=1e-2):\n",
    "    if abs(theta - 0) < tolerance:\n",
    "        return \"sharp\"\n",
    "    elif abs(theta - 10) < tolerance:\n",
    "        return \"wide\"\n",
    "    else:\n",
    "        raise ValueError(f\"theta did not converge to a minimum (within tolerance={1e-2})\")"
   ]
  },
  {
   "cell_type": "code",
   "execution_count": 5,
   "metadata": {},
   "outputs": [],
   "source": [
    "def run_experiment(num_trials, epochs, learning_rate):\n",
    "    results = {\"sharp\": 0, \"wide\": 0, \"failed\": 0}\n",
    "\n",
    "    digits = np.floor(np.log10(num_trials)).astype(int) + 1\n",
    "    for i in range(num_trials):\n",
    "        print_i = str(i).zfill(digits)\n",
    "        print(f\"Trial num: {print_i}/{num_trials}\", end=\"\\r\")\n",
    "        gd_theta = gradient_descent(epochs, learning_rate)\n",
    "        try:\n",
    "            results[determine_minima(gd_theta)] += 1\n",
    "        except ValueError:\n",
    "            results[\"failed\"] += 1\n",
    "            \n",
    "    # results = {k: str(v).zfill(digits) for k, v in results.items()}\n",
    "    results = {k: f\"{(v/num_trials) * 100:6.2f}\" for k, v in results.items()}  # convert results to a percentage\n",
    "    \n",
    "    print(f\"\"\"In {num_trials} trials (with {epochs} epochs each) using learning rate alpha = {learning_rate}:          \n",
    "   Convergence to sharp minimum: {results['sharp']}%\n",
    "    Convergence to wide minimum: {results['wide']}%\n",
    "Failed to converge to a minimum: {results['failed']}%\n",
    "\"\"\")"
   ]
  },
  {
   "cell_type": "code",
   "execution_count": 6,
   "metadata": {},
   "outputs": [
    {
     "name": "stdout",
     "output_type": "stream",
     "text": [
      "In 150 trials (with 5000 epochs each) using learning rate alpha = 0.01:          \n",
      "   Convergence to sharp minimum:  33.33%\n",
      "    Convergence to wide minimum:  66.67%\n",
      "Failed to converge to a minimum:   0.00%\n",
      "\n",
      "In 150 trials (with 5000 epochs each) using learning rate alpha = 0.3:          \n",
      "   Convergence to sharp minimum:   0.00%\n",
      "    Convergence to wide minimum: 100.00%\n",
      "Failed to converge to a minimum:   0.00%\n",
      "\n",
      "In 150 trials (with 5000 epochs each) using learning rate alpha = 4.0:          \n",
      "   Convergence to sharp minimum:   0.00%\n",
      "    Convergence to wide minimum:   0.00%\n",
      "Failed to converge to a minimum: 100.00%\n",
      "\n"
     ]
    }
   ],
   "source": [
    "num_trials = 150\n",
    "epochs = 5000\n",
    "\n",
    "for alpha in (0.01, 0.30, 4.00):\n",
    "    run_experiment(num_trials, epochs, alpha)"
   ]
  },
  {
   "cell_type": "markdown",
   "metadata": {},
   "source": [
    "# Problem 5"
   ]
  },
  {
   "cell_type": "code",
   "execution_count": 7,
   "metadata": {},
   "outputs": [
    {
     "name": "stdout",
     "output_type": "stream",
     "text": [
      "0.4587586843129764\n"
     ]
    }
   ],
   "source": [
    "import numpy as np\n",
    "\n",
    "class Convolution1d:\n",
    "    def __init__(self, filt):\n",
    "        self.__filt = filt\n",
    "        self.__r = filt.size\n",
    "        self.T = TransposedConvolution1d(self.__filt)\n",
    "\n",
    "    def __matmul__(self, vector) :\n",
    "        r, n = self.__r, vector.size\n",
    "        \n",
    "        return np.asarray([np.dot(\n",
    "            self.__filt, \n",
    "            vector[i:i+r]\n",
    "        ) for i in range(n-r+1)])  # IMPLEMENTATION\n",
    "    \n",
    "class TransposedConvolution1d :\n",
    "    '''\n",
    "    Transpose of 1-dimensional convolution operator used for the \n",
    "    transpose-convolution operation A.T@(...)\n",
    "    '''\n",
    "    def __init__(self, filt) :\n",
    "        self.__filt = filt\n",
    "        self.__r = filt.size\n",
    "\n",
    "    def __matmul__(self, vector) :\n",
    "        r = self.__r\n",
    "        n = vector.size + r - 1\n",
    "        \n",
    "        # old bad solution that didn't work\n",
    "        # return_array = np.ndarray(n)\n",
    "        # for i in range(n):\n",
    "        #     filt_start = max(0, i-(n-r))  # on the (n-r+1)th row the filter start is offset\n",
    "        #     filt_end = min(i+1, r)\n",
    "        #     v_start = max(0, i-r)  # on the (r+1)th row the vector start is offset\n",
    "        #     v_end = v_start + filt_end - filt_start\n",
    "        #     return_array[i] = np.sum(np.flip(self.__filt[filt_start:filt_end])*vector[v_start:v_end])\n",
    "        # return return_array\n",
    "    \n",
    "        return np.asarray([np.dot(\n",
    "            np.flip(self.__filt), \n",
    "            np.concatenate((np.zeros(r-1), vector, np.zeros(r-1)))[i:i+r]\n",
    "        ) for i in range(n)])  # IMPLEMENTATION\n",
    "\n",
    "def huber_loss(x) :\n",
    "    return np.sum( (1/2)*(x**2)*(np.abs(x)<=1) + (np.sign(x)*x-1/2)*(np.abs(x)>1) )\n",
    "def huber_grad(x) :\n",
    "    return x*(np.abs(x)<=1) + np.sign(x)*(np.abs(x)>1)\n",
    "\n",
    "\n",
    "r, n, lam = 3, 20, 0.1\n",
    "\n",
    "np.random.seed(0)\n",
    "k = np.random.randn(r)\n",
    "b = np.random.randn(n-r+1)\n",
    "A = Convolution1d(k)\n",
    "#from scipy.linalg import circulant\n",
    "#A = circulant(np.concatenate((np.flip(k),np.zeros(n-r))))[r-1:,:]\n",
    "\n",
    "\n",
    "x = np.zeros(n)\n",
    "alpha = 0.01\n",
    "for _ in range(100) :\n",
    "    x = x - alpha*(A.T@(huber_grad(A@x-b))+lam*x)\n",
    "\n",
    "print(huber_loss(A@x-b)+0.5*lam*np.linalg.norm(x)**2)"
   ]
  }
 ],
 "metadata": {
  "kernelspec": {
   "display_name": "MFDNN",
   "language": "python",
   "name": "python3"
  },
  "language_info": {
   "codemirror_mode": {
    "name": "ipython",
    "version": 3
   },
   "file_extension": ".py",
   "mimetype": "text/x-python",
   "name": "python",
   "nbconvert_exporter": "python",
   "pygments_lexer": "ipython3",
   "version": "3.11.8"
  }
 },
 "nbformat": 4,
 "nbformat_minor": 2
}
